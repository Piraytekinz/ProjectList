{
 "cells": [
  {
   "cell_type": "code",
   "execution_count": 1,
   "id": "08bd67fe-5dd0-4aa0-a26d-736a277c8d89",
   "metadata": {},
   "outputs": [
    {
     "name": "stdout",
     "output_type": "stream",
     "text": [
      "Python 3.10.11\n"
     ]
    }
   ],
   "source": [
    "!python --version\n"
   ]
  },
  {
   "cell_type": "code",
   "execution_count": 2,
   "id": "902d7fb2-1c3c-43b9-9cb0-0ea44b860861",
   "metadata": {},
   "outputs": [
    {
     "name": "stdout",
     "output_type": "stream",
     "text": [
      "WARNING:tensorflow:From C:\\Users\\anang\\AppData\\Local\\Programs\\Python\\Python310\\lib\\site-packages\\keras\\src\\losses.py:2976: The name tf.losses.sparse_softmax_cross_entropy is deprecated. Please use tf.compat.v1.losses.sparse_softmax_cross_entropy instead.\n",
      "\n"
     ]
    }
   ],
   "source": [
    "import tensorflow as tf\n",
    "import numpy as np\n",
    "import tensorflow_datasets as tfds\n",
    "import os\n",
    "import re\n",
    "import json"
   ]
  },
  {
   "cell_type": "code",
   "execution_count": 3,
   "id": "d3b2213b-d72a-4400-960b-874fcff8bd40",
   "metadata": {},
   "outputs": [],
   "source": [
    "# Maximum sentence length\n",
    "MAX_LENGTH = 25\n",
    "\n",
    "# Maximum number of samples to preprocess\n",
    "MAX_SAMPLES = 50000\n",
    "\n",
    "# For tf.data.Dataset\n",
    "BATCH_SIZE = 32\n",
    "BUFFER_SIZE = 20000\n",
    "\n",
    "# For Transformer\n",
    "NUM_LAYERS = 2\n",
    "D_MODEL = 256\n",
    "NUM_HEADS = 8\n",
    "UNITS = 512\n",
    "DROPOUT = 0.1\n",
    "\n",
    "EPOCHS = 40"
   ]
  },
  {
   "cell_type": "code",
   "execution_count": 4,
   "id": "9560d91f-f888-4f02-b6ab-9fe87042bbba",
   "metadata": {},
   "outputs": [],
   "source": [
    "# path_to_zip = tf.keras.utils.get_file(\n",
    "#     \"ubuntu_dialogs.tgz\",\n",
    "#     origin=\"http://www.cs.mcgill.ca/~jpineau/datasets/ubuntu-corpus-1.0/ubuntu_dialogs.tgz\",\n",
    "#     extract=True,\n",
    "# )\n",
    "\n",
    "# path_to_dataset = os.path.join(\n",
    "#     os.path.dirname(path_to_zip), \"cornell movie-dialogs corpus\"\n",
    "# )\n",
    "\n",
    "# path_to_movie_lines = os.path.join(path_to_dataset, \"movie_lines.txt\")\n",
    "# path_to_movie_conversations = os.path.join(path_to_dataset, \"movie_conversations.txt\")"
   ]
  },
  {
   "cell_type": "code",
   "execution_count": 5,
   "id": "92a28ccd-41e9-44ca-b38f-7053acfbe04c",
   "metadata": {},
   "outputs": [],
   "source": [
    "def preprocess_sentence(sentence):\n",
    "    sentence = sentence.lower().strip()\n",
    "    # creating a space between a word and the punctuation following it\n",
    "    # eg: \"he is a boy.\" => \"he is a boy .\"\n",
    "    sentence = re.sub(r\"([?.!,])\", r\" \\1 \", sentence)\n",
    "    sentence = re.sub(r'[\" \"]+', \" \", sentence)\n",
    "    # # removing contractions\n",
    "    sentence = re.sub(r\"i'm\", \"i am\", sentence)\n",
    "    sentence = re.sub(r\"he's\", \"he is\", sentence)\n",
    "    sentence = re.sub(r\"she's\", \"she is\", sentence)\n",
    "    sentence = re.sub(r\"it's\", \"it is\", sentence)\n",
    "    sentence = re.sub(r\"that's\", \"that is\", sentence)\n",
    "    sentence = re.sub(r\"what's\", \"that is\", sentence)\n",
    "    sentence = re.sub(r\"where's\", \"where is\", sentence)\n",
    "    sentence = re.sub(r\"how's\", \"how is\", sentence)\n",
    "    sentence = re.sub(r\"\\'ll\", \" will\", sentence)\n",
    "    sentence = re.sub(r\"\\'ve\", \" have\", sentence)\n",
    "    sentence = re.sub(r\"\\'re\", \" are\", sentence)\n",
    "    sentence = re.sub(r\"\\'d\", \" would\", sentence)\n",
    "    sentence = re.sub(r\"\\'re\", \" are\", sentence)\n",
    "    sentence = re.sub(r\"won't\", \"will not\", sentence)\n",
    "    sentence = re.sub(r\"can't\", \"cannot\", sentence)\n",
    "    sentence = re.sub(r\"n't\", \" not\", sentence)\n",
    "    sentence = re.sub(r\"n'\", \"ng\", sentence)\n",
    "    sentence = re.sub(r\"'bout\", \"about\", sentence)\n",
    "    # replacing everything with space except (a-z, A-Z, \".\", \"?\", \"!\", \",\")\n",
    "    sentence = re.sub(r\"[^a-zA-Z?.!,0-1000]+\", \" \", sentence)\n",
    "    sentence = sentence.strip()\n",
    "    return sentence\n",
    "\n",
    "\n",
    "\n",
    "# def load_conversations():\n",
    "#     # dictionary of line id to text\n",
    "#     id2line = {}\n",
    "#     with open(path_to_movie_lines, errors=\"ignore\") as file:\n",
    "#         lines = file.readlines()\n",
    "#     for line in lines:\n",
    "#         parts = line.replace(\"\\n\", \"\").split(\" +++$+++ \")\n",
    "#         id2line[parts[0]] = parts[4]\n",
    "\n",
    "#     inputs, outputs = [], []\n",
    "#     with open(path_to_movie_conversations, \"r\") as file:\n",
    "#         lines = file.readlines()\n",
    "#     for line in lines:\n",
    "#         parts = line.replace(\"\\n\", \"\").split(\" +++$+++ \")\n",
    "#         # get conversation in a list of line ID\n",
    "#         conversation = [line[1:-1] for line in parts[3][1:-1].split(\", \")]\n",
    "#         for i in range(len(conversation) - 1):\n",
    "#             inputs.append(preprocess_sentence(id2line[conversation[i]]))\n",
    "#             outputs.append(preprocess_sentence(id2line[conversation[i + 1]]))\n",
    "#             if len(inputs) >= MAX_SAMPLES:\n",
    "#                 return inputs, outputs\n",
    "#     return inputs, outputs\n",
    "\n",
    "\n",
    "# questions, answers = load_conversations()\n",
    "\n",
    "questions = []\n",
    "answers = []"
   ]
  },
  {
   "cell_type": "code",
   "execution_count": 6,
   "id": "fa604073-8df8-400b-8641-cb394a7a8e51",
   "metadata": {},
   "outputs": [
    {
     "data": {
      "text/plain": [
       "'my night s good'"
      ]
     },
     "execution_count": 6,
     "metadata": {},
     "output_type": "execute_result"
    }
   ],
   "source": [
    "preprocess_sentence(\"My night's good\")"
   ]
  },
  {
   "cell_type": "code",
   "execution_count": 7,
   "id": "eda07b8e-7884-409e-a86d-4f15ca94b057",
   "metadata": {},
   "outputs": [
    {
     "name": "stdout",
     "output_type": "stream",
     "text": [
      "How can I improve my cardiovascular health++ What are some symptoms of the flu++ Can stress affect my digestive system++ How much water should I drink in a day++ What are some ways to manage anxiety naturally++ Is it normal to feel tired all the time++ What foods are good for promoting brain health++ How can I prevent back pain++ What are the early signs of diabetes++ Can you recommend some healthy snacks for weight loss++ How often should I get my cholesterol checked++ What are the benefits of regular exercise for mental health++ How can I improve my sleep quality++ What are the benefits of drinking green tea++ Is it safe to take supplements for vitamin deficiencies++ Can certain foods help boost the immune system++ What's the difference between type 1 and type 2 diabetes++ How can I manage my stress levels during busy times++ Are there any natural remedies for headaches++ Can a healthy diet help prevent chronic diseases++ How can I quit smoking++ What are the benefits of practicing mindfulness meditation++ Are there exercises I can do to strengthen my core muscles++ Can allergies develop later in life++ How can I maintain a healthy work-life balance++ How does caffeine affect my sleep++ What are the benefits of regular stretching exercises++ Can you suggest healthy alternatives to sugary drinks++ How can I improve my posture at work++ Are there any natural remedies for allergies++ What are the recommended screenings for women's health++ How can I boost my metabolism naturally++ What are the signs of dehydration++ Can you provide tips for maintaining healthy skin++ How does stress impact the immune system++ Are there specific exercises for lower back pain relief++ What are the potential benefits of intermittent fasting++ Can you recommend foods that are good for bone health++ How does alcohol consumption affect my health++ What are the benefits of adding probiotics to my diet++ How can I prevent muscle cramps during exercise++ What are the dangers of sitting for extended periods++ Can you suggest ways to reduce sugar intake in my diet++ How can I establish a consistent workout routine++ What are the signs of a good mental health day++ Can certain foods trigger migraines++ How does lack of sleep affect mental well-being++ What are the benefits of practicing gratitude for mental health++ How can I manage stress-related hair loss++ Can you recommend healthy snacks for kids++ How can I improve my lung health++ Are there any effective home remedies for a common cold++ What are the benefits of regular dental check-ups++ Can you recommend a balanced diet for vegetarians++ How does lack of exercise impact mental health++ What are the signs of a healthy immune system++ How can I prevent eye strain during long hours of screen time++ Can certain foods help reduce inflammation in the body++ What are the benefits of practicing mindfulness in daily life++ How can I support a healthy gut microbiome++ Are there natural ways to boost energy levels++ What are the potential risks of excessive caffeine consumption++ Can you provide tips for maintaining a healthy weight++ How does alcohol affect sleep quality++ What are the benefits of staying socially connected for mental health++ How can I manage and reduce stress-related headaches++ Can you recommend exercises for improving flexibility++ What are the benefits of getting sunlight for vitamin D++ How does sugar impact dental health++ What are the signs of a well-balanced and nutritious diet++ How can I stay hydrated during hot weather++ Can certain foods help alleviate joint pain++ What are the benefits of getting a good night's sleep++ How can I improve my respiratory health if I have allergies++ Can you suggest healthy snacks for a busy workday++ What are the potential health risks of sitting for too long++ How does laughter contribute to overall well-being++ Can you provide tips for managing and preventing migraines++ What are the benefits of regular cardiovascular exercise++ How can I support my mental health during challenging times++ Are there any natural ways to boost the immune system in winter++ How can I incorporate more fruits and vegetables into my diet++ Can you recommend exercises for strengthening the core++ What are the benefits of maintaining good oral hygiene++ How can I manage and reduce symptoms of seasonal allergies++ What are the signs of a healthy and balanced lifestyle++ How does technology use before bedtime affect sleep quality++ Can you suggest healthy meal options for a vegetarian diet++ What are the benefits of staying physically active as I age++ How can I prevent and manage muscle soreness after exercise++ Can you provide tips for improving mental clarity and focus++ How does stress impact the digestive system++ What are the benefits of staying mentally stimulated as I age++ How can I create a healthy and sustainable exercise routine++ Can certain foods help promote healthy hair and skin++ What are the benefits of practicing deep breathing exercises++ How can I support my immune system during flu season++ Can you recommend healthy snacks for kids' lunchboxes++ How does lack of sleep affect athletic performance++ What are the potential health risks of prolonged sitting++ Hi++ Hello++ Hey++ Good morning++ Good afternoon++ Good evening++ Howdy++ Greetings++ What's up++ Yo++ Salutations++ How are you++ Nice to see you++ How's it going++ What's new++ Long time no see++ Wassup++ Good day++ What's happening++ How do you do++ Top of the morning to you++ Pleased to meet you++ Hey there++ Welcome++ It's a pleasure to meet you++ How's your day going++ Hey, how's life treating you++ Hola++ Konnichiwa++ Bonjour++ Aloha++ Namaste++ Hiya++ Well, hello there++ What's cracking++ G'day mate++ Hi friend++ Hey buddy++ How's everything++ How's your day been so far++ Ahoy matey++ Good to see you++ What's the good word++ How's your day shaping up++ What's the news++ Buenos dÃ­as++ Good evening to you++ Shalom++ Ciao++ How's tricks++ What's cookin'++ Hey sunshine++ How's your day treating you++ Hello there, stranger++ What's the buzz++ What's on your mind++ How's the world treating you++ Hi there, beautiful++ Hey handsome++ How's your day been going++ Greetings and salutations++ How's your day unfolding++ How's your day panning out++ Well, look who it is++ What's the craic++ Hi, what's the haps++ How's life treating you lately++ What's shakin'++ Sup++ How's your day rolling++ Good to see you again++ Hello, my friend++ What's happening in your world++ How's your day progressing++ How are things going for you++ How's your day turning out++ Hey there, how are things++ Good morrow++ Greetings and salutations++ How are things on your end++ How's life treating you these days++ How's your day treating you so far++ Hey, long time no see++ What's the good news++ How's your day shaping up so far++ Well, look who it is++ Hi there, how's everything++ Hey there, how's it hanging++ How's your day coming along++ What's the latest++ How's everything going for you++ Hey there, what's the good word++ How's everything with you++ How's your day going so far++ What's going on++ How's your day looking++ How's your day treating you thus far++ Hey, how's everything going++ How's your day been treating you++ Well, hello stranger++ How's life treating you++ What's the latest gossip++ How's it hanging++ How's your day treating you today++ How are things++ How's your day been++ How's your day unfolding so far++ What's the 411++ How's your day rolling along++ How's life++ How's your day shaping up today++ What's the good word++ How's your day been so far++ What's up, buttercup++ How's everything going++ How's it going over there++ What's the good news++ How's your day panning out so far++ What's the scoop++ How's it hanging, my friend++ How's your day progressing so far++ How are you doing today++ What's the latest with you++ How's everything going today++ How's your day been going so far++ How's life treating you today++ How's your day turning out so far++ How's your day shaping up++ What's the news with you++ What's new with you++ What's the dealio++ How's your day looking so far++ What's the story++ How's your day treating you, buddy++ What's up, doc++ How's your day been so far today++ How's your day unfolding today++ How's your day going today++ What's new today++ How's your day turning out today++ What's happening today++ How's your day today++ How's your day going today so far++ How's your day been today so far++ How's your day today so far++ How's your day been today++ How's your day today going so far++ How's your day today unfolding++ How's your day today shaping up++ How's your day today progressing++ How's your day today rolling along++ How's your day today looking++ How's your day today panning out++ How's your day today progressing so far++ How's your day today treating you++ How's your day today been going so far++ How's your day today turning out++ How's your day today shaping up so far++ How's your day today been treating you++ How's your day today been going++ How's your day today unfolding so far++ How's your day today looking so far++ How's your day today shaping up++ How's your day today going++ How's your day today progressing++ How's your day today been++ How's your day today treating you so far++ How's your day today turning out so far++ How's your day today panning out so far++ How's your day today been going so far++ How's your day today been treating you so far++ How's your day today shaping up today++ How's your day today been today++ How's your day today unfolding today++ How's your day today going today++ How's your day today progressing today++ How's your day today rolling along today++ How's your day today looking today++ How's your day today panning out today++ How's your day today progressing so far today++ How's your day today treating you today++ How's your day today been going so far today++ How's your day today turning out today++ How's your day today shaping up so far today++ How's your day today been treating you++ How's your day today unfolding so far today++ How's your day today looking so far today++ How's your day today shaping up today++ How's your day today going today++ How's your day today progressing today++ How's your day today been today++ How's your day today treating you so far today++ How's your day today turning out so far today++ How's your day today panning out so far today++ How's your day today been going so far today++ How's your day today been treating you so far today++ How's your day today shaping up today++ How's your day today been today++ How's your day today unfolding today++ How's your day today going today++ Thanks a bunch!++ Much obliged!++ I appreciate it!++ Thank you kindly!++ Thanks a million!++ Many thanks!++ I owe you one!++ You're a lifesaver!++ Thanks for everything!++ I'm grateful for your help!++ Thank you so much!++ I can't thank you enough!++ You're too kind!++ I'm in your debt!++ I'm so thankful!++ That means a lot!++ You're amazing!++ I'm so grateful for your assistance!++ Thanks for your thoughtfulness!++ You've been so helpful!++ Farewell!++ See you later!++ Bye for now!++ Catch you later!++ So long!++ Take it easy!++ Until next time!++ Toodle-oo!++ Peace out!++ Gotta go!++ See ya!++ TTFN (Ta-ta for now)!++ Later gator!++ Take care of yourself!++ Have a good one!++ Adieu!++ Sayonara!++ Cheerio!++ All the best!++ Bye now!++ Goodbye++ Bye++ Okay thanks doc++ Okay bye doc++ Okay got it++ Thanks++ Hey Doc++ Okay bye now++ I've been feeling so sad and overwhelmed lately. Work has become such a massive source of stress for me.++ I recently got a promotion at work, which I thought would be exciting. But the added responsibilities and pressure have just taken a toll on my mental health. It's been a really moving experience for me.++ Well, the workload has increased significantly, and I find it hard to maintain a work-life balance. I've been staying late at the office, and it feels like I'm constantly under a pile of never-ending tasks. It's just so hard to keep up, and it's impacting my overall well-being.++ I've been trying to prioritize my tasks and delegate whenever possible. I've also started practicing meditation during my breaks to help manage stress. But sometimes, it feels like no matter what I do, I can't catch a break. It's been a constant struggle.++ You're right. I haven't really opened up about my struggles to my coworkers or supervisor. I guess I've been afraid of appearing weak or incapable. How can I approach this discussion without feeling vulnerable?++ Thank you for your understanding and guidance. I appreciate the reminder that I don't have to face this alone. I'll gather my courage and initiate that conversation soon. I need to prioritize my well-being and find a healthier balance.++ Hi, I'm feeling really scared about something and I need some advice. It's about friendship.++ Well, lately, I've been feeling like my friends don't value me as much as I value them. It's like I'm always the one reaching out and making plans, but they never initiate anything. It's making me doubt if our friendship is genuine.++ No, I haven't. I'm afraid that they'll think I'm being needy or that they'll get defensive. I don't want to ruin our friendship by bringing it up.++ You're right, I should talk to them. But how do I approach the conversation without sounding accusatory or angry?++ I see, so it's important to frame it as a dialogue rather than confrontational. That makes sense.++ It's reassuring to hear that. I'll try to gather the courage to talk to them. But what if they don't respond well? What if they dismiss my concerns?++ That's true. I shouldn't hold onto toxic relationships. It's just hard to let go sometimes, you know?++ Thank you for reminding me of my worth. I appreciate your advice and support.++ I will, thank you. I feel much better after talking to you.++ Hey, I hope you're doing well. I wanted to talk about something that has been on my mind lately. I've been feeling really surprised by my emotional state and it's starting to affect my overall health.++ I've been dealing with a lot of sadness and hopelessness. It just came out of nowhere, and I can't seem to shake it off. It's making me feel physically exhausted and it's difficult to concentrate on everyday tasks.++ Well, I did recently go through a breakup, but I thought I had moved on. I didn't expect it to affect me this much. Additionally, my workload at the office has increased, which is adding to my stress.++ I've been trying to distract myself by keeping busy, but it only provides temporary relief. I've also been talking to friends, but I feel like a burden sometimes. It's as if they don't really understand what I'm going through.++ Honestly, therapy has always intimidated me. I was afraid of being judged or misunderstood. But now, I'm realizing that I need someone who can guide me through this.++ Yes, I am. I want to feel better and gain a better understanding of myself. How do we start?++ Yes, I'm ready to begin this journey of self-exploration and healing. Thank you for being so understanding and supportive. I'm looking forward to our sessions.++ I'm feeling really overwhelmed, and I don't know what to do about it. It's just that everything seems so heavy and hopeless right now, you know? And I can't quite put my finger on why I'm feeling this way. Maybe it has something to do with my relationship with my mom.++ I'm feeling really upset and confused about my identity.++ Well, I've been struggling with addiction for a while now, and it's starting to take a toll on how I see myself. I feel like my addiction has become a part of my identity, and it's hard to imagine who I am without it.++ I think stress and anxiety play a big role in why I turned to addiction in the first place. It became a way for me to escape from those overwhelming emotions.++ I've tried a few things like meditation and exercise, but they haven't been as effective as I had hoped. It's tempting to go back to my addiction because it temporarily numbs those feelings.++ I haven't thought about that before. Do you think it could help?++ That sounds comforting. I've always felt a bit isolated, thinking that no one would understand what I'm going through. Is it okay to reach out for help?++ Thank you for your reassurance. I will definitely look into finding a support group or counselor. But I'm worried about relapsing and losing all the progress I've made. How can I stay strong during the recovery process?++ That makes sense. I'll do my best to stay committed to my recovery and reach out for help when needed. Thank you for your guidance and support.++ Thank you, I needed to hear that. I'm grateful to have someone like you in my corner. I'm feeling hopeful and ready to take those steps towards a better future.++ I feel so numb, and it's causing a lot of conflict within me.++ It's like there's a constant battle going on inside my head. On one hand, I want to feel something, anything, but on the other hand, I'm scared of the pain that might come with it.++ Yes, exactly! I've been hurt so many times before, and I don't want to go through that again. So, I just shut everything out, including the good feelings.++ I know, deep down, that avoiding my emotions isn't helping me. But it's hard to break free from this pattern.++ I often find myself conflicted when I am in social situations. I want to connect with others, but the fear of rejection or disappointment holds me back.++ That is true. I guess it's about finding the right people who will understand and accept me.++ I have a few close friends who have always been there for me. Maybe it's time I lean on them more.++ I'll definitely make a conscious effort to reach out when I need support. It just feels nice knowing that I'm not alone in this.++ I've always found solace in art. Maybe I can start painting again and use it as an outlet for my emotions.++ Thank you for your guidance and support. I really appreciate it.++ I'm feeling extremely upset today. It's so hard to trust in myself.++ I constantly doubt my abilities and feel like I'm never good enough. It's hard to have confidence in my decisions when I'm afraid of making mistakes.++ Well, in school, I always compared myself to others and felt like I couldn't measure up. I was often criticized by teachers and classmates, and that made me doubt my own worth.++ There were a few times when I achieved something I had worked really hard for, like getting a good grade on a project or receiving praise for my talent. But those moments were fleeting, and the doubt quickly crept back in.++ I often feel like everyone else has it all together, and I'm the only one struggling. I tend to think that I'm inherently flawed, which makes it hard to trust my own abilities.++ I've tried, but it's challenging to shift my perspective. It feels natural to be self-critical and find flaws in everything I do.++ I guess I've never really tried those things. I'm afraid of failure and worry that even if I try, I won't succeed.++ I suppose I could start by dedicating some time each day to a hobby I enjoy, like painting. Maybe if I focus on something I love, it will help boost my self-esteem.++  Hi. My names Ahdieh. I'm from a small city in Iran. My father had a heart attack on sunday as doctor said cpr condition.after 40 minuts he came back to life. now he isnot conscious.he is in ICU.his doctor said his conscious rate is 5.what do you think about his condition?If it is needed I can send you his cardiograf and blood test and the drugs they are using for hI'm in ICU.Kindly tell me can we carry hI'm to a better hospital in Tehran(It takes 4 hours to reach there)?++  Hello and thank you for your time and assistance, I have severe fibromyalgia, migraines, adult onset diabetes, cervical radiculopathy, c4,5,6,7 moderate to severe bi-lateral foraminal encroachment , post concussion disorder, thyroiditis. Would you have ordered an emg test for any reason considering the pain that it could possibly cause a continual cycle of pain?++  Yes! I had double knee replacements on Feb. 2008, At the time the Dr. told my husband my left knee was too small , and he had a hard time with it. Then I also was found to have a blood clot in that calf. That replacement has never worked right, THEN, 8 weeks after the surgery, I suddenly began to have a very itchy, red bumpy rash from the knee down the front & inside of that leg. and all these years I keep being told that I have dry skin even though I continually apply several types of creams, aquaphor, even steroid creams subscribed for me. Then in Oct. 2012 it began same way on my right leg; below the knee. I have asked & asked if I could be allergic to the glue & commented that I was not asked about Nickel, ( I am allergic to it), but was told that there was no Nickel. I am so frustrated, & with constantly using the steroid cream, my skin is very thin, red & all my blood vessels now are prominent! It is an ever on going discomfort. Do you think this could be from the glue or a bit of Nickel in the Prothesis?++  I'm extremely itchy ALL OVER the place? I'm extremely itchy all over the place! It constantly fels like there are bugs crawling all over me and biting me in random places. It almost feels like the kind of itch you get from an allergic reaction . Except I feel it constantly in random places all over my body. I'm a very hairy person, unfortunately, so I don t think that helps. One night while I was asleep I woke up from my chest itching so bad and I just kept scratching and digging into cause it wouldnt stop and it hurt really bad and I had to put hydrocortisone on it. I live in a house on the lake and the temperatures right now are about a constant 104 every day. Don t know if that helps anyone. But please help me. I don t know what to do and I'm freaking out because it s starting to itch ALL OVER and WONT STOP!!++  Hi Doctor, I need your help, I'm really worried about my mom, she has a brown discoloration in her gums, like under her front bottom teeth, and she says she feels like it stings, her bone stings not her gum, she has had problems with her teeth before, she has no insurance so she cant go to the dentist, but I really need your advice and help to calm her down, Please help!++  good eveningMy name is Queen I am 28 years old in 2012 I had my right ovary removed to a sertoli leydig tumor that was attached to the ovary. Last week I went for a routine checkup and the dr. who was examining me said that there is now a tumor on my left ovary and they need to perform another operation to remove the tumor. I do not have any kids at this stage so my question is what are the chances of pregnancy if any and if my embreyo s are to be harvested will they be healthy and will there be any to be harvested.regardsQueen++  HI,I had my blood tests 3 days ago and I had some changes in my white blood cells:-white blood cells: 3.5 (normal:4-10)-RDW :16.8( normal 12-16)-white blood cells:3.5 (normal:4-10)neutrophile: 1.3( normal: 2-7)-basophils: 0.11 (normal:0-0.1)All other blood tests were ok. My haemoglobin was fine but I had a little bit lower iron level.I had had an E coli infection and I had taken antibiotics 10 days earlier my blood test. Also during 2011 I had 4 times urinary infection and I had problems with Candida caused by so many antibiotics.One day before my blood test I had taken a pill of Fluconazole for treating Candida.I am 27 years old, I have 51.5 kilos and 175cm. I always have been a skinny girl. I do fitness 3 times/week and I usually eat: 300grams of yogurt with 200 g fruits at breakfast, turkey breast or fish( 200g) with vegetables and a slice of rye bread at lunch, after 2 hours 400 g of cherries and at dinner I eat omelette (one egg and 3 whites egg), cottage cheese and cucumber.Do I eat to less?WHY do you think I have all these changes in my blood tests?Do you think I have tuberculosis or leukaemia? Are these lower white blood cells a big and dangerous problem?++  Hi I'm a 25 year old male suffering from anxiety since 1year taking rexipra20and ventab25at night since one year but still I am not cured100percent sumtimes I get unknown fear and I cant travel by trains I had fear of getting choked in trains plzzz help me out++  Dear Doctor,my son is an obese and has fatty liver.This morning he did some blood test and the results are quite high in Erythrocyte sedimentation rate,gamma gt,urea acid,ldl.Should he do a fibroscan?Does it mean an inflammation?thanks DocSusan-Indonesia++  My husband had a vasectomy reversal 5/09/11 and we just had a S/A done today with the Dr. saying he didnt see a thing. Ive heard there are many factors affecting sperm count and even though it might be zero now it could still change. I'm just looking for some hope.++  I have shortness of breath, there is a pain on my left inner chest. I have a rash that has come up on my arms. it is  circular and the skin is dry. in april I had a lung funtion test that the doctor said was inconclusive. the blood tests showed that my allergy levels were at 895. there is a tingling senation in my hand, fingers and legs.++  Hi, I am 19. I have a lump on the back off my head that comes and goes. I use to get it when I was younger, and it never bothered me unless I hit it while brushing my hair. Now, sometimes when it comes back it feels like it is progressing in pain. I also get a headache that follows but I get tension headaches so much I don t think it is connected. Should I go to a doctor to get it checked out??++  my father got extracted his wisdom teeth by a dentist . At that time.he had complaint of diabetese and blood pressure . After two days, he got victI'm of severe infection in the left part of hisface. Immediately he was hospitalised and right now he is out of severe infection. But one problem persisting is that he is complaining of severe pain in his leftjaw. When he is taking medicine for killing pain of jaw. He reported complain of chest pain . Pl advice.++  Hi, may I answer your health queries right now ?  Please type your query here...Hi, My husbands bp was 154 over 84 this morning and his sugar was 208. He is on meds for both. Was awake with a headache most of the night and off and on for the last few days.Should he be concerned?++  I FEEL SURE MY HUSBAND HAS HAD AND IS STILL HAVING MINI STROKES. WE HAVE HAD EVERY TEST DONE THAT THE DOCTOR ASK, THE LAST THING SUGGESTED WAS ANOTHER MRI OF HIS BRAIN BUT IT HAS NOT BEEN SCHEDULED YET. WHAT SHOULD I DO AND HOW SOON IS IT NECESSARY. HE CANNOT WALK HIS LEFT LEG IS NUMB AND HE IS HAVING TROUBLE KNOWING WHEN HE IS USING THE BATHROOM, BOTH URINATING AND BOWEL MOVEMENTS. HE STAYS CONFUSED ALL THE TIME .++  Hi I have a ten year old daughter, who has had unexplained fevers for the past two years, she has recently been having some dizzy spell. We had some blood work done and her Immature absolute granules and immature granules were at 0.6. Her platelet count was a elevated at 418. Should I be worried about this? Is her levels normal?++  After sex I got what a cut or burn in a thin area of my penis just below the head. But the crack open up to a open wound that would not heal. if I put anything on it baby oil, new skin, neosporin it gets worse. Now I have 4 open wounds in a crack around my penis. I am circumsized but this is the one area of my penis that folds.++  I just got back from a 2 month work trip where I was anxious every day to the point of panic attack a few of those days, just something I am living with and working on. but I have been home for 2 weeks where I usually am great and was swimming at the gym when my chest felt heavy..no pain just hard to get a full breath, I was getting air fine but it seemed labored. this induced a panic attack and since every day I have felt at times heavy chested, swollen at the base of my neck and fatigued of course this is causing more anxiety but is there something seriously wrong. I have never once felt pain and my bp is fluxuating between 120/80 to 140 over 87. I have been afraid to workout since. I went golfing and the symptoms were minor but I did feel out of breath very easily++  Am having bad pain on lower left back and abdomen. Gave left kidney to my brother 20 years ago, otherwise I would say I have kidney infection. Both X-rays and cat scan do lower left abdomen were clear and I don t believe my doctor knows what to do next.++  I had several strokes in 2007 & as a result my jaw is locked on my left side. Whilst I was in hospital they ordered me a Therabite to use to exercise my jaw & try & get it to open. It has helped somewhat, but is there anything else I can get done, to help my lefthand side of my mouth to open?++  recently my friend met with an accident. he was riding back home on his new pulsar and was hit by a lorry from behind. he was not wearing helmet. he was taken to hospital and there he died. it was told he was brought late to hospital. if he had come half an hour earlier he could have been saved. I want to know what first aid should be done at the accident site so that person can transported to hospital and lives can be saved++  hello, my name is nurul islam. I am 42 years old.I live in Bangladesh. Doctors have said that I have hepatitis B and there is no treatment available for hepatitis B here. What should I do,, I have got my passport for kolkata for  Treatment but dont the know the procedure.. Please help++  I have pain behind and to the left of center of my left knee. This pain is very sharp in nature and very painful. It sometimes radiates around the back of my knee. I can t sleep at night for the pain. Sitting and lying down are worse than standing or walking. Any suggestions? The PA that I saw thought it might be a pulled hamstring but this has gone on for a month now with no relief except through pain pills. I must take Meloxicam 15 mg to receive relief but it only lasts for 2 - 3 hours.++  I recently had surgery with no complications( 3 months ago) and today there was a small amount of puss oozing from one of the scars. it drained on its own, but I am noticing a hole in the middle of the scar. it otherwise all looks well healed. should I be concerned or is this normal++  Hi my name is dave and I have bad back and neck problems, I have been want to go to the toilet but couldn t, so I finally just went and it was mostly liquid like but there was a red bean like in it and has released some of the back pain. I have a tear in number four and five in my lower back and it is very pain full but some of the pain went away I was wondering if it was a clot Thank You++  yes Dr. I just moved to FL. from CA. I have chronic spinal stenosis, acute nerve damage ove a log period of time   L4, L%;  C4, C% disease syatica, skinproblems rheumatoid arthritsis and Hep C  [small viral load]  I have extensive medical records---MRI head to toe from Scrippts Memorial Hospital EMG from UCSD and full blood work done here at ST Josephs.I have recently been treated with nerve block injections (eight injections each every other week and given pain meds which I do not abuse at all I am also taking flexerall and sometimes tamazapam at night to sleep Yhe nerve block injections were given to me by a pain management clinic here in FL. and has helped. But this doctor is no longer acceptable to me. Now I have no medication and am bed ridden  (practically) I need help. I can no longer work and am so depressed. I'moved to Florida to be with my daughter during her last semester of high school and have not been able to to see her because I dont want her to see me in such painPlease help meGordon Howard  206 495 7941I need some pain meds I was on percocet 10mg  once 4xs a daymorphine sulphate   I 3xs a dayI dont care if you can only perscribe tylenol 4 or vicadin 1o mg but I am sufferingIf you cannot perscribe for me , then this has been a waste of time++  Had a mini stroke Thursday night. Was checked by MRI, CT Scan, Ultrasounds, and Lab Work and nothing was found to be a problem. Was giving blood thinner to break up any clots I'may of had. Tonight I held my nose and blew, wanting to pop my ears. When that happened, I had a sever pain rush through my neck. What caused this? Is or could this be related to my Stroke? Do I need Immediate Medical attention? please let me know thanks.Linda++  I am diagonised with NAFLD and my LFT test results are as below: SGOT 76 SGPT 56 Bilirubin Total 0.88 Alkaline Phospate 60.7 Bilirubin Direct 0.35 Protein Total 7.195 Albumin 3.989 Globulin 3.206 A/G Ratio 1.2 As such I do not hve any symptoms of non functioning of level and all my systems are working perfectly. I consulted a Doctor who has prescribed the following medicines HEPTRAL 400 1 -1-1 UDLIV 600MG 1-0- 1 BYMULTIGOLD 1-0-0 GATE 400 1-0-1 SILIBON 140 1-0-1 I do not take drinks and I am a nonsmoker and do not take even cofee/tea. My brekfast for the last 20 years is Papaya fruit/Cornflakes or Oats with 2 dates and 1 spoon of honey. Mu lunch is Rice, Dhall and Yogort and dinner also indian food. I shall be thankful for your advice. Regards Vasu++  I have been on steroids and xanax for over 5 years.  I am so fuzzy headed all the time that I canfunction.  It is not dizzy but fuzzyheaded.  I have been to many doctors but none seem to be able to help me.  I did go to phychiatrist last week and she cut back one xxanaz but still no better.  I take 3 a day lowest dose available .  Can anyone please help me?++  I Recently began taking Invokana along with Metformin for my blood sugar.  My A1C was 7.7 last month and my fasting blood sugar has been running around 180-200.  Is there a better medication to help control this, or should I be checking whether I need more testing and help?++  Hi,I went to the dentist to have a tooth removed.After the surgery, the dentist gave me an injection in my right arm, probably for the pain.It made the injection site swell and become hard.Its been 2 weeks now and the site is still swollen and hard.Whats the cause of this and what can I do++  My 42 year old son has become delusional in the past few days. He is an alcholic but this is different. He claims he has been talking with God and God is making hI'm do things ie posting crazy things on social media. I am afraid of what he might do to himself or others. Can I have hI'm committed? He hasn t actually done anything dangerous ....yet.++  Hi I had my acl / meniscus surgery on 13 June 2012. 3 wks before. Due to soft bones surgeon used staples to fix the graft, I was only allowed the knee movement from today otherwise I was keeping it just straight in the brace. Now I started bending it but it s only 30% & pains an lot. It s stff. Will I get my knee motion back..?.++  In April my TLC was 7600/cu km DLC 48 (40-70) LYMPHOCYTES 50(20-50) EISONOPHIL 1(1-6) MONOCYT 1(1-10)......BUT in June 26 my TLC IS 6400/cu mm and Dlc is 38(40-70) lymphocytes is 56(20-50) eisnophil 5(1-6) so the fluctuations of dlc and lymphocytes can be reasons to worry? Or everything is normal?++  I have been having light to moderate pains in my left chest with occasional arm feeling like it going to sleep. I feel tightness on my chest occasionally. The symptoms come and go for 4 days now. I had a severere anxiety attack almost 3 months ago and I have been thinking it may be anxiety. It is not the same symptom I felt when I went to hospital February 1 and that was the first anxiety attack I ever had. Could this be anxiety as I am under a lot of stress++  Hi, My name is sanjay and I am 25years old. I have pain just above the stomach, I believe its just below my heart or it is in the heart I am not sure, have negligible pain just at the back of my left arm shoulders, my Bload pressure is quiet fluctuating, in the mean time I am suffering from cough and cold. Please let me know do I have to consult a doctor?++  My 14 year old son has been having a rapid heart beat off and onFor the last couple days--he often gets dizzy when standingup..he seems concerned and I can only go by what he says andHe knows his body..should I be concerned and take hI'm to the hospital?++  Hi, Ive had a kind of pea sized lump on the skin of my upper back on the right side. It has never been painful, it is colorless and hasnt seemed to change at all. A year and a half ago, If I remember correctly it used to be a pimpled with puss that was popped, and it seems like it has healed into what I have at the moment. Thank you for you reponse.++  I took clomid for 5 days starting from day 2 of cycle and on day 12 the transvaginal ultrasound showed 3 follicles measuring (22.4X25.3) and (23.1x21.9) and 20.9x17.2) with minimal c.o.d fluid. I was also given an injection of chorimon5000 on day 12.When should I try to time my contact now.++  hello I am about 8 weeks pregnant and for the last 2 days I been seeing brown stuff when I wipe after the bathroom and today I have two period like cramps I dont have tender breast or really any symptoms at that I call the doctor but they seemed like they didnt care I am getting worried it may be a miscarriage++  I have low bp, a slightly leaky heart valve ( not serious) - had pain in legs then abdomen, then chest, last August & told had sludge in gall bladder (now cleared). Had 2 Uti s since then & have had thrush twice. I experience burning in lower arms & legs & at times I have dizziness & nausea.++  I had 7 unexplained seizures last week were I was then tested in neurology while staying in the hospital with no conclusion. Tonight, I got very hot and dizzy followed by an upset stomach. When I was lying down, I had lots of random muscle twitching. After that stopped, my legs were very heavy and tired. Is this likely a small seizure or events leading up to a seizure++  hi I m 27 yrs old female and recently diagnosed with AFB negative but PCR for M.tuberculosis positive....what does it mean....should I go for second opinion or ask the doctor to start my treatment.....and please let me know am I able to conceive or notthanks++  Hi Doctor, I have undergone Blood Test recently as part of general check-up. The reports tell that I have 54% Neutrophils, 44% of Lymphocytes, 00% of Monocytes, 0.2% of Eosinophils and  Total WBC is 6800/cumm. PCV 45.7%. RBC count 5.28million/cumm. Is this result normal? because the lab technician had highlighted Lymphocytes .Thanks and Regards, unni++  My daughter is 16 years old and has a terrible temper, but can also be very sweet. She has got this fears that she will die or that somebody close to her will die and then she also has voices telling her that she must now say goodbuy to this one or that one because it is now time to go. What will your diagnosis be?++  My daughter is 4 weeks. She is struggling passing gas and BM. She turns red, cries and needs helps each time (glycerine, massage ...etc.). I breastfeed her (pumped breast milk- 3-3.5 oz in average and she is 9 LB) and give her  twice soy formula at night. Her stool is full of curds and some are large. Am I overfeeding her?  what can I do to make her life easier?Thanks++  sir I m azoospermic...I have gone for testicular biopsy ,the result was GERM CELL APLASIA and my doctor said me that there isnt any chance for us.......now I heard some other doctor saying on TV that in such cases that particular part of testis may not have spermatids or sperms but there is some chance that the other part may have them .when I went for biopsy my harmonal reports were normal but recently I found my FSH level higher than normal and TESTOSTERONE level low.I want to know weather we should go for needle biopsy now or shall I take some harmonal medication and go for TESE....what would be the better options for us....please help!!++  I am 39 years old 5 foot tall and weigh 265 lbs. I have gained over 50 lbs since August 2014. I am tired all of the time. I recently have swelling in my feet and ankles. I wake up several times a night. I fall asleep at the drop of a hat. I have shortness of breath. I am wondering what may be wrong with me.++  Hi, I am 23 yr old. I have wheezing problem from my childhood.  I used to take Inhaler whenever I suffer from wheezing. I have undertaken both ayurvedic and Homeopathic treatments. But still I find no change. I suffer from wheezing. Is there any permanent solution for it. Will it have any side effects in my future?++  hi, my mum whent to have her goldblader out on wedsday this week by key hole , when she came back from surgery they said they dident remove it as it was srunk and would be to dangers for her , I need to no if it is more dangers to leave it in and what could hapen to her++  hello doctor,  my sister is suffering from kidney shrinkage, and her keratinine level is nearly to 7 on average. she is undergoing dialyses twice a week from last 3 months. But her stomach swelling is not decreasing. Her age is 25.  plz guide me that shall we continue with the same. If yes for how much time. we r very upset.Arun Sharma India++  I am breast-feeding my 3 month old, I am 23 and not over weight. For about 2 weeks now I am getting a rash on my upper arm, what is this? it looks like eczema but I know I do not have eczema. Unless it can just develop out of no where. I have never had a rash like this. I have put breast milk on it for 2 days now and it looks a little better but I would really like to know what this is.++  Both of my big toe knuckles have dry tough skin on them. I can buff it off and moisturize and it will return in a day or two. My feet tan well in the summer and this dry rough skin always tans darker and just looks dirty. I am a 37 yo female. My only medical issues are allergies/ sinuses/ ears. Is this just dry skin or something else and How do I treat this area?++  ok so my ob found that I have a high white blood cell count but not evidence that I have an infection what can this mean++  Hello,This might sound very weird. It has been two years and this thing happen to me very very rarely when I am chewing food. When I am chewing food, the nerves on my right side of the temple (forehead) jerks or I dont know other words to describe it. It is very painful for a while. Do these things happen due to wisdom teeth? Is there any connection?++  I have had a semi-soft movable painless lump (long lump not like a pea or marble) on my left collar bone for about 6 years now. It was diagnosed as a lipoma a few years ago. I was told dont worry about it. In the past year I have had a few flair ups on the left side with pain in the joint area and forearm. The forearm near my wrist is also swollen. I had it checked out about 6 months ago and the doctor said the swelling is probably cause by me sleeping, leaning, carrying a purse and seat belt etc.. on that side. Today while at a new doctor he felt it and said I should have an ultrasound because it might be CANCER! I was horrified! The area is slightly painful but the lump its self does not hurt. He then said wait a few days and if it stops hurting forgot about the ultrasound.??? I would think if it was cancer or I had cancer I would have some other symptoms aside from some swelling and inflammation/possible arthritis issues on that side by now? I am 41 - female no history of cancer at all in my family. I am obese and have been for over 10 years (after my son died) aside from the obesity I am in good health. I am now terrified that I have cancer!!! YOU SHOULD STATE THAT YOU CHARGE A FEE BEFORE ALLOWING QUESTIONS! : (   THANKS FOR NOTHING!++  My boyfriend was recently diagnosed with Wolff-Parkinson-White Syndrome. I did some research, and discovered that he has nearly all of the symptoms of heart block and many of the symptoms of heart failure. Whenever he has an episode with his heart, he gets very dizzy, nauseous, has chest pain and cold sweats, and eventually has a blackout. Is there anything that I can do to alleviate his symptoms when they occur?++  sir now I am 46 yr male.I attempt first sex in 18th year.at this time I have affected herpes in my pennis.but I have clearing water to my pennis every day.but I am sugar patient.nowadays I have affected lungs problems. what can I do for solve this problem. I know very well heerpes viruse is not curable++  I have recurrent sinus infections. I ve had 2 in the last 5 weeks and my doctor prescribed antibiotics and sterioids. I have had 6 -8 sinus infections the last 2 years with 5 bouts of pneumonia. Why do I keep getting sinus infections and pneumonia? I ve had my tonsils out.++  I am a woman 57 years old started taking medicine lescol xl 80 to lower my cholesterol level but after 4 months of taking it the test showed an elevation in sgpt it is 37 (normal level should me less than 31) n.b.: before taking this medicine my sgpt was normal is this dangerous what can I do should I stop the medicine++  Mam I got married 3 years still I didn t pregnant egg growthing is normal my husband sperm also normal but 1st time I'miss my period 8days to check pregnancy test I'm pregnant but I was aboated used tablets after aboating I suffered by right side abdominal pain with right side buttock pain and thigh pain now I consulting gynagologist doctor they told my endometrium small size 6mm can u tell me I get pregnant or not its curable ah++  hello dr, My boyfriend and I have been together for 3 years and have had unprotected sex before. He was my first sexual partner but he had had one other partner before me. Lat night I noticed something odd on the head of his penis that looks like a pimple that you would get on your face. Although when I looked this up online I was discouraged and started to question whether or not this was an STI. He attempted to pop it and some clear liquid came out. It s not blistered or anything it just looks like a raised bump that s a little red. Please help. Should he see a doctor?++  I get paranoid and after my first car wreck I think it got worse and when people tell me things at my work that something is going on I think I'm going to get in trouble or if I see a cop or when a helicopter flys over my house or if some one knocks on my door I think I'm going to be in trouble for every little think I do and what can help me that can change this I try not to think about I did something wrong what can I do to keep to keep me from being to paranoid and I think I might have anxiety or paranoia I'm not sure if you can help me out thank you++  My mother in law has put her husband in a nursing home and he is well but she how ever is displaying narcissistic behavior,she continues to tell hI'm he is forgetful and show hI'm no attention and help but he is very quiet and gentle but she show aggression and selfishness shopping all day and is obsessed with a x priest doing up his home and decorating and giving hI'm money and paying his bill what is one to do ?how can one explain this to a doctor ? she is not aware that this is not normal.++  myone year old boy baby had UTI last month.he was on IV antibiotics later within a week had fever and started with oral antibiotics for  week.and this week we have done urine culture and routine shows no pus cells but heavy growth of E.coli..what are the possible cause?++  Hello Doctor, I had  mild spasms of stomach pain  3 days back. I took Spasmonil and and anitibiotic. The tsomach pain has subsided since yesterday but I developed a dryness in my throat and now its also aching since yesterday and slight difficulty in swallowing. Also my Left eye is watering and am having diffculty in keeping it open as if its having pins inside. Please help me,++  my six month old baby has been admitted to the hospital due to convulsion - doctor says his Calcium level was 0.7 - so they have given IV calcium next day it reaches 1.5 then 1.75 - then they have started to give oral calcium 27 ml/day - my baby weight is 7.8 kg after two days the calcium level comedown to 1.7 and 1.5 now they have started to give hI'm IV calcium again - please advice what could be the reason ,Thanks Anand++  A few years ago I had a operation to take all four of my wisdom teeth out, they all heeled perfectly however the second back tooth on the bottom right of my gum grew out of alignment and pushed more against my gum and cheek. Not only that I had a lot of the gum over the tooth and pushing against it. Now I have a small cut or hole I between my tooth and where my cheek is, it is difficult for my to brush.++  My mother in law is 85 yrs old. She slept for over 24 hrs. We suspect that it may be an overdose of Trica sleeping pills that she takes. There was some frothing in her mouth after she slept. There is one strip of 10 tablets of .5 strength which is missing. Could this be the reason?++  I have a sharp pain coming from the right side of my ribcage every time I inhale deeply. It also hurts whenever I bend down or make any motion at all that involves my abs. It seems like the pain is originating from a small bump which also hurts every time I touch it.++  Hi Dr,I am 54 this year and I just receive my blood test report which states the following :1. Total wbc = 3300/cmm (below the normal range of 4000 - 11000)2. polymorphs = 47% (below the normal range of 50 - 70)3. lymphocytes = 44% (above the normal range of 20 - 40)5. Polymorphs = 1551/cmm (below the normal range of 2000 - 7500)6. Monocytes = 165 / cmm (below the normal range of 200 - 1000)The film states :RBC - Normochromic normocyticWBC - Mildly reduced with mild neutropenia but morphologically normal.Impression - Mild leucopenia with mild neutropeniaIs there any concern to my health? I have not experience any health issue for the past years and am rather careful with my diet. Appreciate your advise.++  Hi! I believe I have had gingivitis for a while but did not know about it.  I am trying to get better by using Sonic spinbrush toothbrush associated with Crest Pro-Health to fight gingivitis and biotiene mouth wash. I started to notice my skin are peeling and so I'm guessing its the toothpaste that is doing it because it never happened before when I use regular toothpaste.  So what am I suppose to use now for gingivitis if Crest Pro-Health or Biotine mouth wash  isnt working?++  Hello, I had a tooth pulled one week ago today & yesterday I had 5 lymph nodes swell & become tender. One behind & one in front of my ear on the same side as I had the tooth pulled & another on the opposite side behind the ear. The other 2 is in my throat. Is this common for someone that has had a tooth pulled. Also, I have another tooth that has not been pulled that has a cavity that is on the opposite side of the mouth that I had work done. Is this a common occurance? If so, how long should it last? Otherwise, I am in good physical shape for a 28 year old male with no history of any diseases.++  I can only walk short distances and then I become very short winded. I was told that I have High blood pressure in my lungs and wonder if this could be the cause, or is it because I am overweight? What are the treatment for high blood pressure in the lungs? I really want my life back.++  Hi Dr. Rynne, I recently lifted something very heavy and now I have a tingle in my lower back with a itch. A couple days have gone by now it s seemed to move to my lower stomach. Is that a pinched nerve? If so how can I treat? Not painful more irritating.++  Hello, I have been getting a sharp almost electric pain at the top of my stomach for quite some time now, and it comes and goes. It is very sharp and lasts about 15 seconds then goes away for about a day or so. I have a constant stomach pain, light almost unnoticeable, really really light nausea, but I cannot eat a full meal, I get full with half a hot dog. I'mainly have pain in the lower left side of my stomach.++  I m 30 now, I m having acne since I was 14. acne breakout usually appears morey when I ejaculate fluid through masturbation, a physician once prescribed me aldactone 100 mg for For 2 months and magically it cleared up my skin and when I stopped the medication acne began to come back again. pls do suggest a cure for my problem.++  ! Hello! I am a quite healthy and active 76 year old woman who has never given birth. Was in a car accident about 6 years ago and wrenched my R shoulder fom the back seat to the front. AAbout a year ago someone rear ended me & I jumped out of the car and reinjured that same shoulder. Have had physical therapy, get massages monthly and am now seeing a chiropractor and it doesnot seem to lbe improving much. An Xray revealed 2 bone spurs on that shoulder. What would U advise me to do. I'm continuing exercizes assigned me but not when they hurt or a jabbing pain erupts usually down the center of the shoulder and stops about 4 in. above my elbow ... What to do??? Also,I eat well, lots of fruits and veggies, chicken & fish, do not eat many packaged foods and wonder how much calcium citrate does this healthy body need to take as a supplement??? Thanks....Thanks for your response, Mary++  Hi, A friend has stage IIIB cancer. She s just has surgery to remove 3/4 of her bowel along with 23 lymph nodes - 3 of which have tested positive, and due to start chemo soon. Could you please advise which supplements will help her recovery? Also are there any foods to avoid? Thanks for your help, Anna++  I have had ear pain and a sore throat for 2 weeks. My ears and clear and my throat is only mildly red. Yesterday I had a really bad headache along the base of my skull that moved into my neck and was the worst pain I have every had. Could all of these be related? I have seen my Dr. 4 times in the past 2 weeks.++  My friend had a fever of 104 last night and a runny nose today. I was with her today at a meeting and as we were leaving she had an awful coughing fit (I was not with near her at the time) and had to go to the bathroom to dry heave. Do you think this is very contagious? Am a likely to catch it? I can t afford to be sick at the moment as I finals this week.++  I was at the er 2 nights ago. I went because of high fever, minimal abdominal pain. they said I had a vaginal bacterial infection. I had a ct scan done and they saw a cyst on my left ovary that was 19 mm and a cyst on my kidney. They put me on 2 antibiotics (Cephalexin and Metronidazole). My fever is gone but extremely weak and lower dull back pain and tummy hurts worse real low. I'm wondering if I should go back to the Er?++  hi doctor I have pcos and am pregnent and recently discovered in ultrasound that my baby having cyst in cord I.e;in brain I am 20 weeks pregnent I am concern about my baby will that cyst effect my baby in any ways and can I get ride or is there any permanent cure for this pcos++  Daily I get intermittent unilateral goosebumps to my left hip. It s not painful and I am not cold but it s noticeable. It doesn t radiate down my leg. I have no previous medical history besides being over weight no chronic illnesses, I have no allergies, I take no regular home medications other than birth control and imovane at night for sleep. Any ideas? Could this be nerve related?++  I am a steroid dependant ( Taking HISONE) due to adrenal insufficiency. For the last six months I am on ATT. The Dr. says my TB treatment is a prolonged one and it may go for one and half years. During treatment ( third month) I had liver problems. After taking medication I am OK. Now blood is coming whenever I pass stools. Is this due to TB medication side effects. As and when I have this problem I have asked to take Tab SITCOM FOR 14 days. For the past one months I am having severe legal pain ( Both Bottom foot and calf muscle) Pain in the calf muscle is persisting even when I am resting. I shall be grateful if you could Kindly mail your answers to YYYY@YYYY . I am 54 year old weighing 53. 8 KG and height 5 feet 2 inches.++  I am never late for my period and I am 2 wks late I am getting over a kidney infection which ive never had trouble with that before and I have an iu. cA paragaurd in I'm concerned that I might be pregnant but I have had 2 negative pregnancy tests but my breats are sore I have some bloating and have been a little sick to my stomach on and off I was supposed to start jan 31 for my jan. period and as of today still no period. I didnt know if my kidney infection could be causen a false negative on the test or what my urine test the dr did on feb 1 when I found out I had a kidney infection should I had a blood count of 250 and lekocysts of 500 so idk whts going on I have to go the 18th of this month for a kidney ultrasound Can you give me some insight?++  I suffer from severe pain in my back after long periods of standing and have also noticed that the bottom of my back, my coccyx, is really noticable and I have a dip at the top of my bum. I think this has happened since I gave birth. Is it normal or should I get it checked out?++  I have been peeing alot for the past three weeks, about 9-12 times a day, I have lower back pain on my right side, and my stomach hurts just below my belly button, I have had increasing headaches as well as random stomach cramps that can last a few hours. I drink about 5 bottles of water a day and if I am not drinking water I am drinking any clear liquid, I am starting to worry now bc these symptoms have not gone away. my urine also smells really strong and sweet++  Hello Doctor! I am engaged in masturbation since 7 years and I want to be free from it as I thinks it really affect my studies and promotion in my studies and job as I consider it a major cause of my problems. I am an introvert person considering that fact, I am shy don t want progress in my life seems life purposeless, please suggest what should I do?++  dear sir,I am suffering from eczema in my palm from last ten years.all treatment are faliure . now what I do?ege-50years, height- 170cm,wt-94kg,used medicine are-propysalicNF-6,dermashield,pericort-4,patadin,oxawin cap..menofit,lobet-s,altas,momioft,pericort-4++  I broke right side ribs all and 6 on the left side, flail chest. I had rib fixation surgery after on of my broken ribs punctured my lung. I had 3 right ribs fixated by plates. Now the skin is painful to the touch. I also have a good size knot near where rib #2 meets the sternum and have felt it pop with extreme pain, what can I do to get rid of the constant pain?++  I had hurt my ankle a little during track last week but I figured Id be fine but today it really hurt so I was kind of favoring it while walking but then I tried to take a normal step on it and it cracked and my whole foot hurt but I figured I was fine but its been killing all day and I noticed my whole foot/ankle was a little swollen at work what do I do++  My dad had a repair of a varicele about 6 weeks ago and has experienced weakness and fatigue and queeziness. Most recently he has had gross hematuria with sediment. Very little pain, slight tenderness in his low back. I'm worried about cancer naturally. His primary suggested it was a kidney stone. A UA showed no infection but of course red blood cells. Suggestions? Should we be worried?++  11 month baby girl has lactose intolerance, reflux and has been on steroids, antibiotics and feeds on neocate. Still a baby who screams on and off all the time. Developing well but was 1 month prem. An unhappy child and parents desperate. Any suggestions?++  I had a cardiac ablation of the sinus node on Dec 14, 2011, and then a pacemaker insertion on Dec. 30, 2011. When I was discharged from the hospital, I was dx with pericarditis. Sx resolved, but now 5 weeks after pm insertion, I am having intermittent chest pain on the mid to left side, radiating to the neck. Pain increases with deep inspiration, laughter, lying down. Do you think the pericarditis has recurred? Thank you.++  I have severe shifting ankle pain in the right foot which prevents me from walking.The ortho says my feet are very stiff and flat .No pain medicines have helped . The Phsysio has given some special sole inserts, exercises and cold packs , not much relief . Can I walk for 30 mins every day?I need to push my HDLs up Can I take Macalvit with Vitmin d3 ? I am 71yrs old and have undergone a heart Bypass 10 years ago.++  HI, I am a female,23 years of age,weight=45, I am tall in height & has no medical history, I accidently go pricked by my dads diabetic syringe(when I got prickd,a very small drop of blood came from my finger) which was empty but was used in the morning where Human Actrapid was used in the syringe...kindly advice thanks++  yes my name billie lively and my dr said my red blood cells were small, which is an anemia disorder but I do not know what kind of anemia I have.........my new blood work shows that I'm not anemic anymore but my red blood cells are still small and so I was told to continue my iron medication........what does this mean?++  I have been diagnosed with acute bronchitis and being treated with amoxicillin 500mg 3x per day and prednisolone 5mg 6 in a single dose, my sats levels have been around 96-7 but arent going up. Am short of breath on exertion but ok if sat quietly, I still have the hacking cough, should I be going to work?++  hi I have hypertension 150/105 n take amtas 5 daily for same . I also consume alcohol every alternate day 120 ml of whisky. am male 37 yrs old . is the same okay or shd I reduce my drinking  but is tough as I have done it alternate days alreadymy weight is 75 kg++  Age 37, 5 feet tall, 160 pounds and extremely active.I started having low back pain (no injury) in December so I went to the chiropractor for adjustments and the dr for some pain releif. I took the medication (muscle relaxer and anitinflamation) for about 2 weeks and continued witht he chiropractive until about March. The pain went away until about 2 weeks ago. Its again very painful, but I also noticed that I have been having brown spotting for the last few months also, so I though maybe that might be the cause of the low back pain.++  after releasing sperm ,headache started, pain in eyes also started and feel less confidence and also there is pain in my knees ,feet and sometime pennis also got pain. what should I do ? because I cant concentrate on my study or any work. night fall also a problem for me. in simple I fear from touch my pennis . my face is also lost shinning and look like an aged person but I'm only 21 year old, so please sir do something because in future I'm not going to marry or any thing related to sex.++  I had a MRI done to look at a cyst that was found on my pancreas on a previous MRI. I am a 42 year old woman. I understand that it has gotten a little smaller but I do not understand the rest of the results. Could you help me and advise me as to what my next actions should be if any? Results= FINDINGS: Correlation is made with the previous MRI examination dated05/03/2012.There is motion artifact on these examinations limiting evaluation.The extrahepatic common duct and visualized intrahepatic bile ducts areunremarkable without filling defect, stricture or abnormal dilatation. Thevisualized pancreatic duct is unremarkable. These findings are similar tothe previous study. A lobulated cystic mass is again identified within theregion of the uncinate process of the pancreas which demonstrates cysticcharacteristics on all pulse sequences without enhancement. The overallsize appeared slightly decreased compared to the previous study currentlymeasuring a maximal transverse dimension of 1.2 cm compared to 1.6 cm onthe previous exam. There is suggestion of a cystic duct remnant which isnot optimally visualized due to motion artifact. Also, there is asuggestion of an accessory bile duct supplying the right hepatic lobearising from the extrahepatic common duct.The visualized portions of the liver, spleen , adrenal glands and kidneysare unremarkable.IMPRESSION:PERSISTENT CYST IN THE UNCINATE PROCESS OF THE PANCREAS SLIGHTLY DECREASEDIN SIZE COMPARED TO THE PREVIOUS EXAM.SMALL CYSTIC DUCT REMNANT.Findings suggestive of an accessory bile duct supplying the right hepaticlobe arising from the extrahepatic common duct.++  hi m from pakistan. my age is 21 years n m female n height is 5 feet 3 inches. my blood group is A+. I have no medical issue but one year before I donate blood n in reports it is mention that I have HB core antibody reactive and its rate is 8.91 while the cutoff value is 1.00. then I tested for hepatitis B but reports are negative. have I have any medical issue or hepatitis? n I also want to increase my height at least 2 inches plz recommend me the medicene++  I had a needle point white patch in the inner cheek which develpoed after the got caught while eating. Got it checked and was diaganosed as leukoplakia nsubmucus fibrosis. But that particular part n other area get regularly get caught in between teeth while eating. I wonder why?I am a hypothyroid patient since last 10yrs n mom died of oral cancer.++  HAVE BEEN EXPIERENCING WHAT THEY CALL BRAIN ZAPS FOR ABOUT A WEEK NOW. ON 40MG OF SELEXA AND 150MG WELBUTRIN BUT STARTED WITH THE ZAPS SO WENT DOWN TO 20MG SELEXA AND KEPT SAME DOSAGE OF WELBUTRIN. GOT A COLD AND HAVENT TAKEN EITHER FOR TWO DAYS NOW AND AM GETTING ANXIETY BUT ZAPS HAVE MINIMIZED. SHOUL I PROCEED THIS WAY AND BREATHE THROUGH ANXIETY?++  when I play fast paced video games. after few minuntes or hours I feel pain in my heart like my hearts going back deep inside. I have to stop playing the game. after 10~30mins I feel good normal no pain... so why I feel that pain when I play this kind of games???++  For the last month I havnt been myself and I dont and cant understand y everything I do has been affected my relasionship is being straind as I cant understand myself and when he asks me I just say I dont know or its just the way I am. my sec drive has gone and I just dont feel myself. I'm almost 20 now and my mother kicked me out at 16 so have been coping pretty much on my own since then I cant forgive her for what she has done so I havent spoken to her since and all my family have taken her side so basically only have my friends to help and my partner but I just cant say wat it is and keep myself bottled up I dont knw wat to do anymore++  Good afternoon doctors my real sister suffer from mentally problum she is mentally deprased for last 10 years we dont take a good tritment because of her fainacily problum ...so doctor tell me who s the best menatilly doctor in patiala....... Doctor my sister is 26 years old,height 5 4, weight may be 47 but not sure, she is menatily depresed girl please suggest me a good doctor for her in patiala++  hi I have multiple lumps symmetrically on my body, neck front and back, on my trunk,back of knees elbows, front of ankles ect, I'm getting a lot of pins and needles too? query dercums disease but I think its more to do with my lympatic system can you advise please++  I seem to be dealing with an almost rash or something like it on my butt. Not in the hold but on the cheeks rather. I work out a lot and work outside at a pool and beach so I am constantly sweating which seems to affect it more. I dont know if its some sort of irritation from all of the sweat or what. Any answers? Thanks!++  I'm being treated for a kidney infection for nearly 3 weeks. First 7days on trimorphen antibiotics and now 2weeks on nitrofurantion.   Its still not clearing up still have awful pain in right flank area around to abdomen and groin.  I'm taking co-codamol 30/500. Ive been scanned and no stones. I'm now getting pain in left flank to.++I need to take my medication at 8:00 PM. Could you remind me when it gets close?++ My doctor prescribed a medication that I have to take at 9:00 PM. Can you give me a heads-up when it's time?++ Can you remind me to take my meds at 7:30 PM? I tend to forget.++ I've got a new medication to take at 8:00 PM. Please remind me when it's time.++ Could you set a reminder to tell me to take my medication at 10:00 PM?++ I need to take my pills at 6:00 PM. Would you mind reminding me?++ At 9:00 PM, can you remind me to take my medication?++ I have a prescription to take at 7:00 PM. Can you give me a nudge when it's time?++ Please remind me at 8:00 PM to take my medication.++ When it's 9:00 PM, can you let me know it's time for my meds?++ I've set a goal to work out every day at 6:00 PM. Could you remind me around that time to get my exercise in?++ I'm trying to establish a workout routine and need to exercise at 7:00 AM. Can you give me a nudge when it's time?++ I want to make sure I don't skip my evening workout at 8:00 PM. Could you remind me to hit the gym when it gets close to that time?++ I've planned a workout session for 5:30 PM today. Can you remind me as the time approaches to make sure I don't forget?++ I'm working on getting regular exercise and need to work out at 9:00 AM. Can you remind me to get moving when it's time?++ I'm setting aside 6:00 PM for my daily workout. Could you help me remember by giving me a reminder around then?++ My exercise routine is scheduled for 7:00 PM tonight. Can you give me a quick reminder so I don't miss it?++ I need to stay consistent with my workouts, so I've planned to exercise at 8:00 AM. Can you let me know when it's time to get started?++ I'm aiming to do my workout at 5:00 PM. Could you send me a reminder as the time gets closer so I can stay on track?++ I've made a commitment to work out every day at 6:30 PM. Can you remind me when it's getting close to that time to ensure I don't skip it?++ I have to exercise at 9:00 PM. Can you remind me when it's time?++ Hi, I'm in Tokyo, Japan, and I'm not feeling well. Can you help me find the nearest hospital?++ I'm currently in Paris, France, and I need a good pharmacy nearby. Can you point me in the right direction?++ Hello, I'm visiting Berlin, Germany, and I'm looking for a reputable dental clinic. Do you know where I can find one?++ I'm in Sydney, Australia, and I need to visit a clinic for a check-up. Where's the closest one?++ Excuse me, I'm staying in London, UK, and I need to find a 24-hour pharmacy. Can you guide me?+ I'm in Rome, Italy, and I need to see a doctor urgently. Can you tell me where the nearest hospita  is?++ Hello, I'm in Madrid, Spain, and I'm looking for the best dental clinic around. Any recommendation ?++ I'm currently in Toronto, Canada, and I'm in need of some medication. Where can I find the nearest pharmacy?++ Hi, I'm visiting New York City, USA, and I need to see a doctor. Can you tell me where the closest clinic is?++ I'm in Seoul, South Korea, and I need to find a good hospital. Can you help me locate one?++ Hello, I'm in Rio de Janeiro, Brazil, and I'm looking for a nearby pharmacy. Can you direct me?+ I'm in Johannesburg, South Africa, and I need to visit a dental clinic. Do you know where I should go?+ I'm currently in Dubai, UAE, and I'm looking for the nearest hospital. Can you guide me?+ Hi, I'm in Bangkok, Thailand, and I need to find a clinic for a quick consultation. Where's the closest one?++ I'm in Moscow, Russia, and I'm not feeling well. Can you help me find the nearest hospital?++ Hello, I'm in Mumbai, India, and I need to locate a nearby pharmacy. Can you assist?++ I'm in Cape Town, South Africa, and I'm looking for the best dental clinic around. Any suggestions?++ I'm in Singapore, and I need to visit a hospital. Where's the nearest one located?+ Hi, I'm currently in Nairobi, Kenya, and I'm looking for a good pharmacy. Can you guide me? + I'm in Mexico City, Mexico, and I need to see a doctor. Where's the closest clinic?+ Hello, I'm visiting Buenos Aires, Argentina, and I need to find a nearby dental clinic. Any recommendati ns?++ I'm in Amsterdam, Netherlands, and I need some medication. Can you tell me where the nearest pharmacy is ++ Hi, I'm in Cairo, Egypt, and I'm looking for the nearest hospital. Can you assist me?+ I'm in Hong Kong, China, and I need to find a good clinic for a check-up. Where should I go?+ Hello, I'm in Lagos, Nigeria, and I'm in need of a nearby pharmacy. Can you help me out?+ I'm in Istanbul, Turkey, and I'm looking for a reputable dental clinic. Do you know where I can find one ++ Hi, I'm in Kuala Lumpur, Malaysia, and I need to see a doctor. Can you guide me to the closest clinic?++ I'm in Athens, Greece, and I need to find the nearest hospital. Can you help me?++ Hello, I'm in Vienna, Austria, and I'm looking for a nearby pharmacy. Can you direct me?++ I'm in Santiago, Chile, and I need to visit a dental clinic. Where's the closest one?++ Hi, I'm currently in Prague, Czech Republic, and I'm looking for a good hospital. Can you assist?++ I'm in Stockholm, Sweden, and I need some medication. Where can I find the nearest pharmacy?++ Hello, I'm in Lisbon, Portugal, and I'm not feeling well. Can you help me find a nearby clinic?++ I'm in Zurich, Switzerland, and I'm looking for a reputable dental clinic. Any suggestions?+ Hi, I'm in Warsaw, Poland, and I need to find the nearest hospital. Can you guide me?+ I'm in Manila, Philippines, and I'm in need of a nearby pharmacy. Can you assist me?+ Hello, I'm in Budapest, Hungary, and I'm looking for a clinic for a quick check-up. Do you know where I can find one?++ I'm in Dublin, Ireland, and I need to visit a hospital. Where's the closest one located?++ Hi, I'm in Oslo, Norway, and I'm looking for a good pharmacy. Can you point me in the right direction?++ I'm in Auckland, New Zealand, and I need to see a doctor. Where's the nearest clinic?++ Hello, I'm visiting Helsinki, Finland, and I'm looking for a nearby dental clinic. Can you help me?++ I'm in Copenhagen, Denmark, and I need some medication. Where can I find the closest pharmacy?+ Hi, I'm in Montreal, Canada, and I need to find the nearest hospital. Can you assist me?+ I'm in Buenos Aires, Argentina, and I'm looking for a reputable dental clinic. Any recommendations?+ Hello, I'm in Mexico City, Mexico, and I need to find a good clinic for a consultation. Can you he p me ++ I'm in Dubai, UAE, and I need to locate the nearest pharmacy. Can you guide me?+ Hi, I'm in Madrid, Spain, and I'm not feeling well. Can you help me find a hospital?+ I'm in Johannesburg, South Africa, and I'm looking for a nearby dental clinic. Do you know where I should go?++ Hello, I'm in Moscow, Russia, and I need to see a doctor. Where's the closest clinic?++ I'm in Sydney, Australia, and I need to find a good hospital. Can you guide me?++ Hi, I'm in Berlin, Germany, and I'm looking for the nearest pharmacy. Can you assist me?++ I'm in Rome, Italy, and I'm in need of a reputable dental clinic. Where can I find one?++ Hello, I'm visiting Paris, France, and I need to find a nearby clinic. Can you help me?++ I'm in Tokyo, Japan, and I need some medication. Can you tell me where the closest pharmacy is?++ Hi, I'm in Singapore, and I'm looking for a good hospital. Where's the nearest one?++ I'm in Nairobi, Kenya, and I need to find a reputable dental clinic. Can you assist me?++ Hello, I'm in Seoul, South Korea, and I need to visit a clinic. Where's the closest one located?++ I'm in London, UK, and I'm looking for a nearby pharmacy. Can you help me find one?++ Hi, I'm in Cairo, Egypt, and I'm not feeling well. Can you help me locate the nearest hospital?++ I'm in Istanbul, Turkey, and I need to find a good clinic for a consultation. Can you assist me?++ Hello, I'm in Bangkok, Thailand, and I'm looking for a reputable dental clinic. Where can I find one?++ I'm in Mumbai, India, and I'm in need of some medication. Can you direct me to the nearest pharmacy?++ Hi, I'm in Cape Town, South Africa, and I need to find a good hospital. Can you guide me?++ I'm in New York City, USA, and I'm looking for a nearby dental clinic. Any suggestions?++ Hello, I'm in Rio de Janeiro, Brazil, and I need to see a doctor. Where's the closest clinic?++ I'm in Mexico City, Mexico, and I need to find a reputable hospital. Can you help me?++ Hi, I'm in Vienna, Austria, and I'm looking for a nearby pharmacy. Can you assist me?++ I'm in Amsterdam, Netherlands, and I need to visit a dental clinic. Where can I find the nearest one?+ Hello, I'm in Lisbon, Portugal, and I need some medication. Can you help me locate a pharmacy?+ I'm in Zurich, Switzerland, and I'm looking for a good clinic for a consultation. Can you guide me?+ Hi, I'm in Madrid, Spain, and I need to find a reputable hospital. Can you direct me to the nearest one + I'm in Johannesburg, South Africa, and I need to visit a dental clinic. Do you know where I can find one ++ Hello, I'm in Dubai, UAE, and I'm looking for a nearby pharmacy. Can you help me out?++ I'm in Bangkok, Thailand, and I need to see a doctor. Where's the closest clinic?++ Hi, I'm in Sydney, Australia, and I need to find a nearby clinic. Can you help me locate one?++ I'm in Berlin, Germany, and I'm looking for a good pharmacy. Can you direct me to the nearest one?++ Hello, I'm in Paris, France, and I need to visit a dental clinic. Where's the closest one?++ I'm in Rome, Italy, and I'm looking for the nearest hospital. Can you assist me?++ Hi, I'm in Singapore, and I need to find a good pharmacy. Can you guide me?++ I'm in Toronto, Canada, and I'm looking for a reputable dental clinic. Any recommendations?++ Hello, I'm in Cape Town, South Africa, and I need to see a doctor. Where's the nearest clinic?++ I'm in Mumbai, India, and I'm looking for a nearby pharmacy. Can you help me out?++ Hi, I'm in Rio de Janeiro, Brazil, and I need to visit a hospital. Where's the closest one?++ I'm in Mexico City, Mexico, and I'm looking for a good dental clinic. Can you guide me?++ Hello, I'm in Istanbul, Turkey, and I need to find the nearest pharmacy. Can you assist me?++ I'm in Seoul, South Korea, and I'm looking for a reputable hospital. Where's the closest one?++ Hi, I'm in Vienna, Austria, and I need to find a good clinic. Can you help me locate one?++ I'm in Amsterdam, Netherlands, and I'm looking for the nearest dental clinic. Can you direct me?++ Hello, I'm in Lisbon, Portugal, and I need to visit a pharmacy. Where's the closest one?++ I'm in Prague, Czech Republic, and I'm in need of a nearby hospital. Can you assist me?++ Hi, I'm in Sydney, Australia, and I need to find a good dental clinic. Can you help?++ I'm in Berlin, Germany, and I'm looking for a nearby clinic. Where's the closest one?++ Hello, I'm in Paris, France, and I need to find a pharmacy. Can you guide me to the nearest one?++ I'm in Rome, Italy, and I'm in need of a good hospital. Can you assist me?++ Hi, I'm in Toronto, Canada, and I'm looking for a reputable pharmacy. Where can I find one?++ I'm in Cape Town, South Africa, and I need to find a nearby dental clinic. Can you help me locate one?++ Hello, I'm in Tokyo, Japan, and I need to visit a good pharmacy. Can you tell me where the nearest one is?++ I'm in Hong Kong, China, and I'm looking for a nearby dental clinic. Where can I find one?++ Hi, I'm in Buenos Aires, Argentina, and I need to find a reputable hospital. Can you assist me?++\n"
     ]
    }
   ],
   "source": [
    "with open(\"C:\\\\Users\\\\anang\\\\OneDrive\\\\Desktop\\\\Joshua's folder\\\\DocGPT\\\\datasets\\\\gpt.json\", 'r') as f:\n",
    "  gpt = json.load(f)\n",
    "\n",
    "print(gpt['questions'])\n",
    "\n",
    "for d in gpt['questions'].split('++'):\n",
    "  questions.append(preprocess_sentence(d))\n",
    "\n",
    "for d in gpt['answers'].split('=='):\n",
    "  answers.append(preprocess_sentence(d))"
   ]
  },
  {
   "cell_type": "code",
   "execution_count": null,
   "id": "7528afae-93d7-4f4f-a10b-ec13ca37e4c2",
   "metadata": {},
   "outputs": [],
   "source": []
  },
  {
   "cell_type": "code",
   "execution_count": 9,
   "id": "ad34e33a-761d-433e-bb43-2df5a5b76e43",
   "metadata": {},
   "outputs": [],
   "source": [
    "max_num = 272\n",
    "for i in questions:\n",
    "    max_num = len(i.split()) if len(i.split()) > max_num else max_num\n",
    "    \n",
    "\n",
    "for i in answers:\n",
    "    max_num = len(i.split()) if len(i.split()) > max_num else max_num\n",
    "    \n",
    "\n",
    "\n",
    "MAX_LENGTH = max_num"
   ]
  },
  {
   "cell_type": "code",
   "execution_count": 10,
   "id": "02b232b4-dc6c-4265-9abc-a831946843ea",
   "metadata": {},
   "outputs": [
    {
     "data": {
      "text/plain": [
       "272"
      ]
     },
     "execution_count": 10,
     "metadata": {},
     "output_type": "execute_result"
    }
   ],
   "source": [
    "MAX_LENGTH"
   ]
  },
  {
   "cell_type": "code",
   "execution_count": 11,
   "id": "5e40d559-2018-4c8d-983e-41f85ba7b7b9",
   "metadata": {},
   "outputs": [],
   "source": [
    "# Build tokenizer using tfds for both questions and answers\n",
    "tokenizer = tfds.deprecated.text.SubwordTextEncoder.build_from_corpus(\n",
    "    questions + answers, target_vocab_size=2**13\n",
    ")\n",
    "\n",
    "# Define start and end token to indicate the start and end of a sentence\n",
    "START_TOKEN, END_TOKEN = [tokenizer.vocab_size], [tokenizer.vocab_size + 1]\n",
    "\n",
    "# Vocabulary size plus start and end token\n",
    "VOCAB_SIZE = tokenizer.vocab_size + 2"
   ]
  },
  {
   "cell_type": "code",
   "execution_count": 12,
   "id": "9f7edf48-a18b-45ab-b8a7-4d57b646445e",
   "metadata": {},
   "outputs": [
    {
     "data": {
      "text/plain": [
       "5306"
      ]
     },
     "execution_count": 12,
     "metadata": {},
     "output_type": "execute_result"
    }
   ],
   "source": [
    "VOCAB_SIZE"
   ]
  },
  {
   "cell_type": "code",
   "execution_count": 13,
   "id": "047cf4c6-4dd4-43a1-aa5e-5400b896463d",
   "metadata": {},
   "outputs": [],
   "source": [
    "# Tokenize, filter and pad sentences\n",
    "def tokenize_and_filter(inputs, outputs):\n",
    "    tokenized_inputs, tokenized_outputs = [], []\n",
    "\n",
    "    for (sentence1, sentence2) in zip(inputs, outputs):\n",
    "        # tokenize sentence\n",
    "        sentence1 = START_TOKEN + tokenizer.encode(sentence1) + END_TOKEN\n",
    "        sentence2 = START_TOKEN + tokenizer.encode(sentence2) + END_TOKEN\n",
    "        # check tokenized sentence max length\n",
    "        if len(sentence1) <= MAX_LENGTH and len(sentence2) <= MAX_LENGTH:\n",
    "            tokenized_inputs.append(sentence1)\n",
    "            tokenized_outputs.append(sentence2)\n",
    "\n",
    "    # pad tokenized sentences\n",
    "    tokenized_inputs = tf.keras.preprocessing.sequence.pad_sequences(\n",
    "        tokenized_inputs, maxlen=MAX_LENGTH, padding=\"post\"\n",
    "    )\n",
    "    tokenized_outputs = tf.keras.preprocessing.sequence.pad_sequences(\n",
    "        tokenized_outputs, maxlen=MAX_LENGTH, padding=\"post\"\n",
    "    )\n",
    "\n",
    "    return tokenized_inputs, tokenized_outputs\n",
    "\n",
    "\n",
    "questions, answers = tokenize_and_filter(questions, answers)"
   ]
  },
  {
   "cell_type": "code",
   "execution_count": 14,
   "id": "94a160d0-be78-41a7-a0e2-48b33ba507a6",
   "metadata": {},
   "outputs": [],
   "source": [
    "# decoder inputs use the previous target as input\n",
    "# remove START_TOKEN from targets\n",
    "dataset = tf.data.Dataset.from_tensor_slices(\n",
    "    (\n",
    "        {\"inputs\": questions, \"dec_inputs\": answers[:, :-1]},\n",
    "        {\"outputs\": answers[:, 1:]},\n",
    "    )\n",
    ")\n",
    "\n",
    "dataset = dataset.cache()\n",
    "dataset = dataset.shuffle(BUFFER_SIZE)\n",
    "dataset = dataset.batch(BATCH_SIZE)\n",
    "dataset = dataset.prefetch(tf.data.AUTOTUNE)"
   ]
  },
  {
   "cell_type": "code",
   "execution_count": 15,
   "id": "13fb5b1c-a267-41cc-82f1-14d45f2a5a14",
   "metadata": {},
   "outputs": [],
   "source": [
    "def scaled_dot_product_attention(Q, K, V, mask=None):\n",
    "    attention = tf.matmul(Q, K, transpose_b = True)\n",
    "    depth = tf.cast(tf.shape(K)[-1], tf.float32)\n",
    "\n",
    "    logits = attention / tf.math.sqrt(depth)\n",
    "\n",
    "    if mask != None:\n",
    "        logits += -1e9 * mask\n",
    "\n",
    "    attention = tf.nn.softmax(logits, axis=-1)\n",
    "\n",
    "    final = tf.matmul(attention, V)\n",
    "\n",
    "    return final"
   ]
  },
  {
   "cell_type": "code",
   "execution_count": 16,
   "id": "806e7ac0-ed4c-4a1c-bfef-ca7b22bc0b4e",
   "metadata": {},
   "outputs": [],
   "source": [
    "class MultiHeadAttentionLayer(tf.keras.layers.Layer):\n",
    "  def __init__(self, num_heads, d_model, **kwargs):\n",
    "    assert d_model % num_heads == 0\n",
    "    super(MultiHeadAttentionLayer, self).__init__(**kwargs)\n",
    "\n",
    "    self.d_model = d_model\n",
    "    self.num_heads = num_heads\n",
    "\n",
    "    self.depth = self.d_model // self.num_heads\n",
    "\n",
    "    self.q_dense = tf.keras.layers.Dense(units=d_model)\n",
    "    self.k_dense = tf.keras.layers.Dense(units=d_model)\n",
    "    self.v_dense = tf.keras.layers.Dense(units=d_model)\n",
    "\n",
    "    self.dense = tf.keras.layers.Dense(units=d_model)\n",
    "\n",
    "\n",
    "  def get_config(self):\n",
    "    config = super(MultiHeadAttentionLayer, self).get_config()\n",
    "    config.update(\n",
    "        {\n",
    "            \"num_heads\": self.num_heads,\n",
    "            \"d_model\": self.d_model,\n",
    "        }\n",
    "    )\n",
    "    return config\n",
    "\n",
    "\n",
    "  def split_heads(self, input, batch_size):\n",
    "    inputs = tf.keras.layers.Lambda(\n",
    "        lambda input: tf.reshape(input, shape=(batch_size, -1, self.num_heads, self.depth))\n",
    "    )(input)\n",
    "\n",
    "    return tf.keras.layers.Lambda(\n",
    "        lambda inputs: tf.transpose(inputs, perm=[0,2,1,3])\n",
    "    )(inputs)\n",
    "\n",
    "\n",
    "  def call(self, inputs):\n",
    "    query, key, value, mask = (inputs['query'], inputs['key'], inputs['value'], inputs['mask'])\n",
    "\n",
    "    batch_size = tf.shape(query)[0]\n",
    "\n",
    "    query = self.q_dense(query)\n",
    "    key = self.k_dense(key)\n",
    "    value = self.v_dense(value)\n",
    "\n",
    "    q = self.split_heads(query, batch_size)\n",
    "    k = self.split_heads(key, batch_size)\n",
    "    v = self.split_heads(value, batch_size)\n",
    "\n",
    "    scaled_attention = scaled_dot_product_attention(q, k, v, mask)\n",
    "\n",
    "    attention = tf.keras.layers.Lambda(\n",
    "        lambda scaled_attention: tf.transpose(scaled_attention, perm=[0,2,1,3])\n",
    "    )(scaled_attention)\n",
    "\n",
    "    concat_attention = tf.keras.layers.Lambda(\n",
    "        lambda attention: tf.reshape(attention, shape=(batch_size, -1, self.d_model))\n",
    "    )(attention)\n",
    "\n",
    "    dense = self.dense(concat_attention)\n",
    "\n",
    "    return dense\n"
   ]
  },
  {
   "cell_type": "code",
   "execution_count": 17,
   "id": "ff51f74f-2b93-4bfc-b306-b1e8d7c827b5",
   "metadata": {},
   "outputs": [],
   "source": [
    "class PositionalEncoding(tf.keras.layers.Layer):\n",
    "    def __init__(self, position, d_model, **kwargs):\n",
    "        super(PositionalEncoding, self).__init__(**kwargs)\n",
    "        self.position = position\n",
    "        self.d_model = d_model\n",
    "        self.pos_encoding = self.positional_encoding(position, d_model)\n",
    "\n",
    "    def get_config(self):\n",
    "        config = super(PositionalEncoding, self).get_config()\n",
    "        config.update(\n",
    "            {\n",
    "                \"position\": self.position,\n",
    "                \"d_model\": self.d_model,\n",
    "            }\n",
    "        )\n",
    "        return config\n",
    "\n",
    "    def get_angles(self, position, i, d_model):\n",
    "        angles = 1 / tf.pow(10000, (2 * (i // 2)) / tf.cast(d_model, tf.float32))\n",
    "        return position * angles\n",
    "\n",
    "    def positional_encoding(self, position, d_model):\n",
    "        angle_rads = self.get_angles(\n",
    "            position=tf.range(position, dtype=tf.float32)[:, tf.newaxis],\n",
    "            i=tf.range(d_model, dtype=tf.float32)[tf.newaxis, :],\n",
    "            d_model=d_model,\n",
    "        )\n",
    "        # apply sin to even index in the array\n",
    "        sines = tf.math.sin(angle_rads[:, 0::2])\n",
    "        # apply cos to odd index in the array\n",
    "        cosines = tf.math.cos(angle_rads[:, 1::2])\n",
    "\n",
    "        pos_encoding = tf.concat([sines, cosines], axis=-1)\n",
    "        pos_encoding = pos_encoding[tf.newaxis, ...]\n",
    "        return tf.cast(pos_encoding, tf.float32)\n",
    "\n",
    "    def call(self, inputs):\n",
    "        return inputs + self.pos_encoding[:, : tf.shape(inputs)[1], :]"
   ]
  },
  {
   "cell_type": "code",
   "execution_count": 18,
   "id": "00695f51-eccb-4e1a-b6e7-bbaead98e373",
   "metadata": {},
   "outputs": [],
   "source": [
    "def encoder_layer(units, num_heads, d_model, dropout, name='encoder_layer'):\n",
    "  inputs = tf.keras.Input(shape=(None, d_model), name='input')\n",
    "  padding_mask = tf.keras.Input(shape=(1, 1, None), name='padding_mask')\n",
    "\n",
    "  attention = MultiHeadAttentionLayer(num_heads, d_model)({\n",
    "      'query': inputs,\n",
    "      'key': inputs,\n",
    "      'value': inputs,\n",
    "      'mask': padding_mask\n",
    "  })\n",
    "\n",
    "  attention = tf.keras.layers.Dropout(rate=dropout)(attention)\n",
    "  add = tf.keras.layers.add([inputs, attention])\n",
    "  attention = tf.keras.layers.LayerNormalization(epsilon=1e-6)(add)\n",
    "\n",
    "  dense = tf.keras.layers.Dense(units=units, activation='relu')(attention)\n",
    "  dense1 = tf.keras.layers.Dense(units=d_model)(dense)\n",
    "  outputs = tf.keras.layers.Dropout(rate=dropout)(dense1)\n",
    "\n",
    "  add = tf.keras.layers.add([attention, outputs])\n",
    "  attention = tf.keras.layers.LayerNormalization(epsilon=1e-6)(add)\n",
    "\n",
    "  return tf.keras.Model(inputs=[inputs, padding_mask], outputs=attention, name=name)"
   ]
  },
  {
   "cell_type": "code",
   "execution_count": 19,
   "id": "0e47052e-ea00-4f27-b684-c9448ddbe2d4",
   "metadata": {},
   "outputs": [
    {
     "name": "stdout",
     "output_type": "stream",
     "text": [
      "WARNING:tensorflow:From C:\\Users\\anang\\AppData\\Local\\Programs\\Python\\Python310\\lib\\site-packages\\keras\\src\\backend.py:1398: The name tf.executing_eagerly_outside_functions is deprecated. Please use tf.compat.v1.executing_eagerly_outside_functions instead.\n",
      "\n"
     ]
    },
    {
     "name": "stderr",
     "output_type": "stream",
     "text": [
      "WARNING:tensorflow:From C:\\Users\\anang\\AppData\\Local\\Programs\\Python\\Python310\\lib\\site-packages\\keras\\src\\backend.py:1398: The name tf.executing_eagerly_outside_functions is deprecated. Please use tf.compat.v1.executing_eagerly_outside_functions instead.\n",
      "\n"
     ]
    }
   ],
   "source": [
    "sample_encoder_layer = encoder_layer(\n",
    "    units=512, d_model=128, num_heads=4, dropout=0.3, name=\"sample_encoder_layer\"\n",
    ")\n",
    "\n",
    "# tf.keras.utils.plot_model(\n",
    "#     sample_encoder_layer, to_file=\"encoder_layer.png\", show_shapes=True\n",
    "# )"
   ]
  },
  {
   "cell_type": "code",
   "execution_count": 20,
   "id": "144bb0c2-d843-4091-8330-7d76a854a28a",
   "metadata": {},
   "outputs": [],
   "source": [
    "def encoder(vocab_size, units, num_heads, num_layers, d_model, dropout, name='encoder'):\n",
    "  inputs = tf.keras.Input(shape=(None,), name='input')\n",
    "  padding_mask = tf.keras.Input(shape=(1, 1, None), name='padding_mask')\n",
    "\n",
    "  embeddings = tf.keras.layers.Embedding(vocab_size, d_model)(inputs)\n",
    "  embeddings *= tf.keras.layers.Lambda(\n",
    "      lambda d_model: tf.math.sqrt(tf.cast(d_model, tf.float32))\n",
    "  )(d_model)\n",
    "\n",
    "  embeddings = PositionalEncoding(vocab_size, d_model)(embeddings)\n",
    "\n",
    "  outputs = tf.keras.layers.Dropout(rate=dropout)(embeddings)\n",
    "\n",
    "\n",
    "\n",
    "  for i in range(num_layers):\n",
    "    outputs = encoder_layer(\n",
    "        units=units,\n",
    "        num_heads=num_heads,\n",
    "        dropout=dropout,\n",
    "        d_model=d_model,\n",
    "        name=\"encoder_layer_{}\".format(i),\n",
    "    )([outputs, padding_mask])\n",
    "\n",
    "  return tf.keras.Model(inputs=[inputs, padding_mask], outputs=outputs, name=name)"
   ]
  },
  {
   "cell_type": "code",
   "execution_count": 21,
   "id": "521ee743-b464-4c99-b5b0-065ba7f76cab",
   "metadata": {},
   "outputs": [],
   "source": [
    "sample_encoder = encoder(\n",
    "    vocab_size=8192,\n",
    "    num_layers=2,\n",
    "    units=512,\n",
    "    d_model=128,\n",
    "    num_heads=4,\n",
    "    dropout=0.3,\n",
    "    name=\"sample_encoder\",\n",
    ")\n",
    "\n",
    "# tf.keras.utils.plot_model(sample_encoder, to_file=\"encoder.png\", show_shapes=True)"
   ]
  },
  {
   "cell_type": "code",
   "execution_count": 22,
   "id": "264979fe-b5f4-464e-91bb-84b3d51d1a80",
   "metadata": {},
   "outputs": [],
   "source": [
    "def decoder_layer(units, num_heads, d_model, dropout, name='decoder_layer'):\n",
    "  inputs = tf.keras.Input(shape=(None, d_model), name='inputs')\n",
    "  enc_outputs = tf.keras.Input(shape=(None, d_model), name='enc_outputs')\n",
    "  look_ahead_mask = tf.keras.Input(shape=(1, None, None), name='look_ahead_mask')\n",
    "  padding_mask = tf.keras.Input(shape=(1, 1, None), name='padding_mask')\n",
    "\n",
    "  attention1 = MultiHeadAttentionLayer(num_heads, d_model)(\n",
    "      inputs={\n",
    "          'query': inputs,\n",
    "          'key': inputs,\n",
    "          'value': inputs,\n",
    "          'mask': look_ahead_mask\n",
    "      }\n",
    "  )\n",
    "\n",
    "  add = tf.keras.layers.add([attention1, inputs])\n",
    "  attention1 = tf.keras.layers.LayerNormalization(epsilon=1e-6)(add)\n",
    "\n",
    "  attention2 = MultiHeadAttentionLayer(num_heads, d_model)(\n",
    "      inputs={\n",
    "          'query': attention1,\n",
    "          'key': enc_outputs,\n",
    "          'value': enc_outputs,\n",
    "          'mask': padding_mask\n",
    "      }\n",
    "  )\n",
    "\n",
    "  attention2 = tf.keras.layers.Dropout(rate=dropout)(attention2)\n",
    "  add = tf.keras.layers.add([attention2, attention1])\n",
    "  attention2 = tf.keras.layers.LayerNormalization(epsilon=1e-6)(add)\n",
    "\n",
    "  dense = tf.keras.layers.Dense(units=units, activation='relu')(attention2)\n",
    "  dense1 = tf.keras.layers.Dense(units=d_model)(dense)\n",
    "\n",
    "  outputs = tf.keras.layers.Dropout(rate=dropout)(dense1)\n",
    "  add = tf.keras.layers.add([outputs, attention2])\n",
    "  outputs = tf.keras.layers.LayerNormalization(epsilon=1e-6)(add)\n",
    "\n",
    "  return tf.keras.Model(inputs=[inputs, enc_outputs, look_ahead_mask, padding_mask], outputs=outputs, name=name)"
   ]
  },
  {
   "cell_type": "code",
   "execution_count": 23,
   "id": "10b56d3c-ef92-4c8f-a5e4-36dc0abea842",
   "metadata": {},
   "outputs": [],
   "source": [
    "sample_decoder_layer = decoder_layer(\n",
    "    units=512, d_model=128, num_heads=4, dropout=0.3, name=\"sample_decoder_layer\"\n",
    ")"
   ]
  },
  {
   "cell_type": "code",
   "execution_count": 24,
   "id": "78da0b30-3d8b-4e52-9061-44fdd2487c1d",
   "metadata": {},
   "outputs": [],
   "source": [
    "def decoder(vocab_size, num_layers, units, d_model, num_heads, dropout, name=\"decoder\"):\n",
    "    inputs = tf.keras.Input(shape=(None,), name=\"inputs\")\n",
    "    enc_outputs = tf.keras.Input(shape=(None, d_model), name=\"encoder_outputs\")\n",
    "    look_ahead_mask = tf.keras.Input(shape=(1, None, None), name=\"look_ahead_mask\")\n",
    "    padding_mask = tf.keras.Input(shape=(1, 1, None), name=\"padding_mask\")\n",
    "\n",
    "    embeddings = tf.keras.layers.Embedding(vocab_size, d_model)(inputs)\n",
    "    embeddings *= tf.keras.layers.Lambda(\n",
    "        lambda d_model: tf.math.sqrt(tf.cast(d_model, tf.float32))\n",
    "    )(d_model)\n",
    "    embeddings = PositionalEncoding(vocab_size, d_model)(embeddings)\n",
    "\n",
    "    outputs = tf.keras.layers.Dropout(rate=dropout)(embeddings)\n",
    "\n",
    "    for i in range(num_layers):\n",
    "        outputs = decoder_layer(\n",
    "            units=units,\n",
    "            d_model=d_model,\n",
    "            num_heads=num_heads,\n",
    "            dropout=dropout,\n",
    "            name=\"decoder_layer_{}\".format(i),\n",
    "        )(inputs=[outputs, enc_outputs, look_ahead_mask, padding_mask])\n",
    "\n",
    "    return tf.keras.Model(\n",
    "        inputs=[inputs, enc_outputs, look_ahead_mask, padding_mask],\n",
    "        outputs=outputs,\n",
    "        name=name,\n",
    "    )"
   ]
  },
  {
   "cell_type": "code",
   "execution_count": 25,
   "id": "72a1cc68-652f-473b-85ee-415d8eb2e114",
   "metadata": {},
   "outputs": [],
   "source": [
    "sample_decoder = decoder(\n",
    "    vocab_size=8192,\n",
    "    num_layers=2,\n",
    "    units=512,\n",
    "    d_model=128,\n",
    "    num_heads=4,\n",
    "    dropout=0.3,\n",
    "    name=\"sample_decoder\",\n",
    ")\n"
   ]
  },
  {
   "cell_type": "code",
   "execution_count": 26,
   "id": "d9f83aad-1ef5-4c4b-8841-408d924a9f84",
   "metadata": {},
   "outputs": [],
   "source": [
    "def create_padding_mask(x):\n",
    "  x = tf.cast(tf.math.equal(x, 0), tf.float32)\n",
    "\n",
    "  return x[:, tf.newaxis, tf.newaxis, :]"
   ]
  },
  {
   "cell_type": "code",
   "execution_count": 27,
   "id": "51eaf547-4ef8-475b-87fd-3c049318254f",
   "metadata": {},
   "outputs": [],
   "source": [
    "def create_look_ahead_mask(x):\n",
    "    seq_len = tf.shape(x)[1]\n",
    "    look_ahead_mask = 1 - tf.linalg.band_part(tf.ones((seq_len, seq_len)), -1, 0)\n",
    "    padding_mask = create_padding_mask(x)\n",
    "    return tf.maximum(look_ahead_mask, padding_mask)"
   ]
  },
  {
   "cell_type": "code",
   "execution_count": 28,
   "id": "5e5f49a7-29be-4e14-aa3e-5409366d0430",
   "metadata": {},
   "outputs": [],
   "source": [
    "def transformer(vocab_size, units, num_layers, num_heads, dropout, d_model, name='transformer'):\n",
    "  inputs = tf.keras.layers.Input(shape=(None,), name='inputs')\n",
    "  dec_inputs = tf.keras.layers.Input(shape=(None,), name='dec_inputs')\n",
    "\n",
    "  enc_padding_mask = tf.keras.layers.Lambda(\n",
    "      create_padding_mask, output_shape=(1,1,None), name='enc_padding_mask'\n",
    "  )(inputs)\n",
    "\n",
    "  look_ahead_mask = tf.keras.layers.Lambda(\n",
    "      create_look_ahead_mask, output_shape=(1, None, None), name='look_ahead_mask'\n",
    "  )(dec_inputs)\n",
    "\n",
    "  dec_padding_mask = tf.keras.layers.Lambda(\n",
    "      create_padding_mask, output_shape=(1,1,None), name='dec_padding_mask'\n",
    "  )(inputs)\n",
    "\n",
    "\n",
    "  enc_outputs = encoder(\n",
    "        vocab_size=vocab_size,\n",
    "        num_layers=num_layers,\n",
    "        units=units,\n",
    "        d_model=d_model,\n",
    "        num_heads=num_heads,\n",
    "        dropout=dropout,\n",
    "    )(inputs=[inputs, enc_padding_mask])\n",
    "\n",
    "  dec_outputs = decoder(\n",
    "      vocab_size=vocab_size,\n",
    "      num_layers=num_layers,\n",
    "      units=units,\n",
    "      d_model=d_model,\n",
    "      num_heads=num_heads,\n",
    "      dropout=dropout,\n",
    "  )(inputs=[dec_inputs, enc_outputs, look_ahead_mask, dec_padding_mask])\n",
    "\n",
    "  outputs = tf.keras.layers.Dense(units=vocab_size, name=\"outputs\")(dec_outputs)\n",
    "\n",
    "  return tf.keras.Model(inputs=[inputs, dec_inputs], outputs=outputs, name=name)"
   ]
  },
  {
   "cell_type": "code",
   "execution_count": 29,
   "id": "5cb0ae4a-54ba-4f8b-bdcf-7e97c5118b71",
   "metadata": {},
   "outputs": [],
   "source": [
    "def loss_function(ytrue, y_pred):\n",
    "  ytrue = tf.reshape(ytrue, (-1, MAX_LENGTH - 1))\n",
    "\n",
    "  loss = tf.keras.losses.SparseCategoricalCrossentropy(\n",
    "      reduction='none', from_logits=True\n",
    "  )(ytrue, y_pred)\n",
    "\n",
    "  mask = tf.cast(tf.math.not_equal(ytrue, 0), tf.float32)\n",
    "  loss = tf.multiply(loss, mask)\n",
    "\n",
    "  return tf.reduce_mean(loss)"
   ]
  },
  {
   "cell_type": "code",
   "execution_count": 30,
   "id": "f10e66cb-8d73-4be6-9cc5-0c93925d9ba2",
   "metadata": {},
   "outputs": [
    {
     "name": "stdout",
     "output_type": "stream",
     "text": [
      "WARNING:tensorflow:From C:\\Users\\anang\\AppData\\Local\\Programs\\Python\\Python310\\lib\\site-packages\\keras\\src\\optimizers\\__init__.py:309: The name tf.train.Optimizer is deprecated. Please use tf.compat.v1.train.Optimizer instead.\n",
      "\n"
     ]
    },
    {
     "name": "stderr",
     "output_type": "stream",
     "text": [
      "WARNING:tensorflow:From C:\\Users\\anang\\AppData\\Local\\Programs\\Python\\Python310\\lib\\site-packages\\keras\\src\\optimizers\\__init__.py:309: The name tf.train.Optimizer is deprecated. Please use tf.compat.v1.train.Optimizer instead.\n",
      "\n"
     ]
    },
    {
     "name": "stdout",
     "output_type": "stream",
     "text": [
      "Model: \"transformer\"\n",
      "__________________________________________________________________________________________________\n",
      " Layer (type)                Output Shape                 Param #   Connected to                  \n",
      "==================================================================================================\n",
      " inputs (InputLayer)         [(None, None)]               0         []                            \n",
      "                                                                                                  \n",
      " dec_inputs (InputLayer)     [(None, None)]               0         []                            \n",
      "                                                                                                  \n",
      " enc_padding_mask (Lambda)   (None, 1, 1, None)           0         ['inputs[0][0]']              \n",
      "                                                                                                  \n",
      " encoder (Functional)        (None, None, 256)            2412544   ['inputs[0][0]',              \n",
      "                                                                     'enc_padding_mask[0][0]']    \n",
      "                                                                                                  \n",
      " look_ahead_mask (Lambda)    (None, 1, None, None)        0         ['dec_inputs[0][0]']          \n",
      "                                                                                                  \n",
      " dec_padding_mask (Lambda)   (None, 1, 1, None)           0         ['inputs[0][0]']              \n",
      "                                                                                                  \n",
      " decoder (Functional)        (None, None, 256)            2939904   ['dec_inputs[0][0]',          \n",
      "                                                                     'encoder[0][0]',             \n",
      "                                                                     'look_ahead_mask[0][0]',     \n",
      "                                                                     'dec_padding_mask[0][0]']    \n",
      "                                                                                                  \n",
      " outputs (Dense)             (None, None, 5306)           1363642   ['decoder[0][0]']             \n",
      "                                                                                                  \n",
      "==================================================================================================\n",
      "Total params: 6716090 (25.62 MB)\n",
      "Trainable params: 6716090 (25.62 MB)\n",
      "Non-trainable params: 0 (0.00 Byte)\n",
      "__________________________________________________________________________________________________\n"
     ]
    }
   ],
   "source": [
    "def accuracy(y_true, y_pred):\n",
    "    # ensure labels have shape (batch_size, MAX_LENGTH - 1)\n",
    "    y_true = tf.reshape(y_true, shape=(-1, MAX_LENGTH - 1))\n",
    "    return tf.keras.metrics.sparse_categorical_accuracy(y_true, y_pred)\n",
    "\n",
    "\n",
    "\n",
    "model = transformer(\n",
    "    vocab_size=VOCAB_SIZE,\n",
    "    num_layers=NUM_LAYERS,\n",
    "    units=UNITS,\n",
    "    d_model=D_MODEL,\n",
    "    num_heads=NUM_HEADS,\n",
    "    dropout=DROPOUT,\n",
    ")\n",
    "\n",
    "model.compile(optimizer='adam', loss=loss_function, metrics=[accuracy])\n",
    "\n",
    "model.summary()"
   ]
  },
  {
   "cell_type": "code",
   "execution_count": 31,
   "id": "708f990a-2f8c-4814-944e-b71f1b8f9bd2",
   "metadata": {},
   "outputs": [
    {
     "name": "stdout",
     "output_type": "stream",
     "text": [
      "Epoch 1/50\n",
      "WARNING:tensorflow:From C:\\Users\\anang\\AppData\\Local\\Programs\\Python\\Python310\\lib\\site-packages\\keras\\src\\utils\\tf_utils.py:492: The name tf.ragged.RaggedTensorValue is deprecated. Please use tf.compat.v1.ragged.RaggedTensorValue instead.\n",
      "\n"
     ]
    },
    {
     "name": "stderr",
     "output_type": "stream",
     "text": [
      "WARNING:tensorflow:From C:\\Users\\anang\\AppData\\Local\\Programs\\Python\\Python310\\lib\\site-packages\\keras\\src\\utils\\tf_utils.py:492: The name tf.ragged.RaggedTensorValue is deprecated. Please use tf.compat.v1.ragged.RaggedTensorValue instead.\n",
      "\n"
     ]
    },
    {
     "name": "stdout",
     "output_type": "stream",
     "text": [
      "WARNING:tensorflow:From C:\\Users\\anang\\AppData\\Local\\Programs\\Python\\Python310\\lib\\site-packages\\keras\\src\\engine\\base_layer_utils.py:384: The name tf.executing_eagerly_outside_functions is deprecated. Please use tf.compat.v1.executing_eagerly_outside_functions instead.\n",
      "\n"
     ]
    },
    {
     "name": "stderr",
     "output_type": "stream",
     "text": [
      "WARNING:tensorflow:From C:\\Users\\anang\\AppData\\Local\\Programs\\Python\\Python310\\lib\\site-packages\\keras\\src\\engine\\base_layer_utils.py:384: The name tf.executing_eagerly_outside_functions is deprecated. Please use tf.compat.v1.executing_eagerly_outside_functions instead.\n",
      "\n"
     ]
    },
    {
     "name": "stdout",
     "output_type": "stream",
     "text": [
      "19/19 [==============================] - 218s 9s/step - loss: 0.8933 - accuracy: 0.0052\n",
      "Epoch 2/50\n",
      "19/19 [==============================] - 155s 8s/step - loss: 0.7797 - accuracy: 0.0078\n",
      "Epoch 3/50\n",
      "19/19 [==============================] - 156s 8s/step - loss: 0.7612 - accuracy: 0.0095\n",
      "Epoch 4/50\n",
      "19/19 [==============================] - 158s 8s/step - loss: 0.7203 - accuracy: 0.0188\n",
      "Epoch 5/50\n",
      "19/19 [==============================] - 149s 8s/step - loss: 0.6518 - accuracy: 0.0293\n",
      "Epoch 6/50\n",
      "19/19 [==============================] - 132s 7s/step - loss: 0.5694 - accuracy: 0.0382\n",
      "Epoch 7/50\n",
      "19/19 [==============================] - 115s 6s/step - loss: 0.4968 - accuracy: 0.0462\n",
      "Epoch 8/50\n",
      "19/19 [==============================] - 112s 6s/step - loss: 0.4358 - accuracy: 0.0523\n",
      "Epoch 9/50\n",
      "19/19 [==============================] - 144s 8s/step - loss: 0.3841 - accuracy: 0.0585\n",
      "Epoch 10/50\n",
      "19/19 [==============================] - 147s 8s/step - loss: 0.3364 - accuracy: 0.0649\n",
      "Epoch 11/50\n",
      "19/19 [==============================] - 152s 8s/step - loss: 0.2929 - accuracy: 0.0707\n",
      "Epoch 12/50\n",
      "19/19 [==============================] - 164s 9s/step - loss: 0.2494 - accuracy: 0.0780\n",
      "Epoch 13/50\n",
      "19/19 [==============================] - 170s 9s/step - loss: 0.2104 - accuracy: 0.0852\n",
      "Epoch 14/50\n",
      "19/19 [==============================] - 143s 8s/step - loss: 0.1732 - accuracy: 0.0935\n",
      "Epoch 15/50\n",
      "19/19 [==============================] - 147s 8s/step - loss: 0.1397 - accuracy: 0.1004\n",
      "Epoch 16/50\n",
      "19/19 [==============================] - 153s 8s/step - loss: 0.1114 - accuracy: 0.1069\n",
      "Epoch 17/50\n",
      "19/19 [==============================] - 148s 8s/step - loss: 0.0879 - accuracy: 0.1115\n",
      "Epoch 18/50\n",
      "19/19 [==============================] - 151s 8s/step - loss: 0.0697 - accuracy: 0.1155\n",
      "Epoch 19/50\n",
      "19/19 [==============================] - 169s 9s/step - loss: 0.0564 - accuracy: 0.1175\n",
      "Epoch 20/50\n",
      "19/19 [==============================] - 223s 12s/step - loss: 0.0460 - accuracy: 0.1189\n",
      "Epoch 21/50\n",
      "19/19 [==============================] - 190s 10s/step - loss: 0.0387 - accuracy: 0.1198\n",
      "Epoch 22/50\n",
      "19/19 [==============================] - 156s 8s/step - loss: 0.0335 - accuracy: 0.1204\n",
      "Epoch 23/50\n",
      "19/19 [==============================] - 138s 7s/step - loss: 0.0291 - accuracy: 0.1208\n",
      "Epoch 24/50\n",
      "19/19 [==============================] - 146s 8s/step - loss: 0.0265 - accuracy: 0.1214\n",
      "Epoch 25/50\n",
      "19/19 [==============================] - 146s 8s/step - loss: 0.0234 - accuracy: 0.1218\n",
      "Epoch 26/50\n",
      "19/19 [==============================] - 142s 7s/step - loss: 0.0217 - accuracy: 0.1219\n",
      "Epoch 27/50\n",
      "19/19 [==============================] - 169s 9s/step - loss: 0.0200 - accuracy: 0.1223\n",
      "Epoch 28/50\n",
      "19/19 [==============================] - 148s 8s/step - loss: 0.0183 - accuracy: 0.1227\n",
      "Epoch 29/50\n",
      "19/19 [==============================] - 138s 7s/step - loss: 0.0179 - accuracy: 0.1227\n",
      "Epoch 30/50\n",
      "19/19 [==============================] - 123s 7s/step - loss: 0.0162 - accuracy: 0.1231\n",
      "Epoch 31/50\n",
      "19/19 [==============================] - 124s 7s/step - loss: 0.0145 - accuracy: 0.1234\n",
      "Epoch 32/50\n",
      "19/19 [==============================] - 134s 7s/step - loss: 0.0129 - accuracy: 0.1240\n",
      "Epoch 33/50\n",
      "19/19 [==============================] - 137s 7s/step - loss: 0.0118 - accuracy: 0.1242\n",
      "Epoch 34/50\n",
      "19/19 [==============================] - 128s 7s/step - loss: 0.0107 - accuracy: 0.1246\n",
      "Epoch 35/50\n",
      "19/19 [==============================] - 117s 6s/step - loss: 0.0101 - accuracy: 0.1246\n",
      "Epoch 36/50\n",
      "19/19 [==============================] - 115s 6s/step - loss: 0.0091 - accuracy: 0.1251\n",
      "Epoch 37/50\n",
      "19/19 [==============================] - 114s 6s/step - loss: 0.0085 - accuracy: 0.1250\n",
      "Epoch 38/50\n",
      "19/19 [==============================] - 112s 6s/step - loss: 0.0078 - accuracy: 0.1252\n",
      "Epoch 39/50\n",
      "19/19 [==============================] - 122s 6s/step - loss: 0.0074 - accuracy: 0.1254\n",
      "Epoch 40/50\n",
      "19/19 [==============================] - 170s 9s/step - loss: 0.0071 - accuracy: 0.1253\n",
      "Epoch 41/50\n",
      "19/19 [==============================] - 163s 9s/step - loss: 0.0068 - accuracy: 0.1255\n",
      "Epoch 42/50\n",
      "19/19 [==============================] - 135s 7s/step - loss: 0.0062 - accuracy: 0.1256\n",
      "Epoch 43/50\n",
      "19/19 [==============================] - 115s 6s/step - loss: 0.0054 - accuracy: 0.1258\n",
      "Epoch 44/50\n",
      "19/19 [==============================] - 115s 6s/step - loss: 0.0047 - accuracy: 0.1259\n",
      "Epoch 45/50\n",
      "19/19 [==============================] - 144s 8s/step - loss: 0.0045 - accuracy: 0.1259\n",
      "Epoch 46/50\n",
      "19/19 [==============================] - 152s 8s/step - loss: 0.0039 - accuracy: 0.1261\n",
      "Epoch 47/50\n",
      "19/19 [==============================] - 146s 8s/step - loss: 0.0038 - accuracy: 0.1261\n",
      "Epoch 48/50\n",
      "19/19 [==============================] - 129s 7s/step - loss: 0.0037 - accuracy: 0.1261\n",
      "Epoch 49/50\n",
      "19/19 [==============================] - 149s 7s/step - loss: 0.0039 - accuracy: 0.1260\n",
      "Epoch 50/50\n",
      "19/19 [==============================] - 134s 7s/step - loss: 0.0038 - accuracy: 0.1260\n"
     ]
    },
    {
     "data": {
      "text/plain": [
       "<keras.src.callbacks.History at 0x2661ea76f20>"
      ]
     },
     "execution_count": 31,
     "metadata": {},
     "output_type": "execute_result"
    }
   ],
   "source": [
    "# for i in range(10):\n",
    "model.fit(dataset, epochs=50)"
   ]
  },
  {
   "cell_type": "code",
   "execution_count": 49,
   "id": "ffd0c878-6134-43f4-b071-83f27024917a",
   "metadata": {},
   "outputs": [
    {
     "name": "stdout",
     "output_type": "stream",
     "text": [
      "Epoch 1/30\n",
      "19/19 [==============================] - 125s 7s/step - loss: 0.0061 - accuracy: 0.1255\n",
      "Epoch 2/30\n",
      "19/19 [==============================] - 184s 10s/step - loss: 0.0055 - accuracy: 0.1256\n",
      "Epoch 3/30\n",
      "19/19 [==============================] - 148s 8s/step - loss: 0.0057 - accuracy: 0.1256\n",
      "Epoch 4/30\n",
      "19/19 [==============================] - 127s 7s/step - loss: 0.0054 - accuracy: 0.1257\n",
      "Epoch 5/30\n",
      "19/19 [==============================] - 115s 6s/step - loss: 0.0048 - accuracy: 0.1257\n",
      "Epoch 6/30\n",
      "19/19 [==============================] - 115s 6s/step - loss: 0.0037 - accuracy: 0.1260\n",
      "Epoch 7/30\n",
      "19/19 [==============================] - 116s 6s/step - loss: 0.0034 - accuracy: 0.1260\n",
      "Epoch 8/30\n",
      "19/19 [==============================] - 134s 7s/step - loss: 0.0035 - accuracy: 0.1260\n",
      "Epoch 9/30\n",
      "19/19 [==============================] - 165s 9s/step - loss: 0.0031 - accuracy: 0.1261\n",
      "Epoch 10/30\n",
      "19/19 [==============================] - 156s 8s/step - loss: 0.0032 - accuracy: 0.1260\n",
      "Epoch 11/30\n",
      "19/19 [==============================] - 154s 8s/step - loss: 0.0028 - accuracy: 0.1260\n",
      "Epoch 12/30\n",
      "19/19 [==============================] - 168s 9s/step - loss: 0.0024 - accuracy: 0.1262\n",
      "Epoch 13/30\n",
      "19/19 [==============================] - 131s 7s/step - loss: 0.0023 - accuracy: 0.1262\n",
      "Epoch 14/30\n",
      "19/19 [==============================] - 116s 6s/step - loss: 0.0022 - accuracy: 0.1262\n",
      "Epoch 15/30\n",
      "19/19 [==============================] - 135s 7s/step - loss: 0.0022 - accuracy: 0.1262\n",
      "Epoch 16/30\n",
      "19/19 [==============================] - 152s 8s/step - loss: 0.0020 - accuracy: 0.1262\n",
      "Epoch 17/30\n",
      "19/19 [==============================] - 162s 9s/step - loss: 0.0019 - accuracy: 0.1263\n",
      "Epoch 18/30\n",
      "19/19 [==============================] - 154s 8s/step - loss: 0.0017 - accuracy: 0.1263\n",
      "Epoch 19/30\n",
      "19/19 [==============================] - 160s 8s/step - loss: 0.0017 - accuracy: 0.1263\n",
      "Epoch 20/30\n",
      "19/19 [==============================] - 153s 8s/step - loss: 0.0017 - accuracy: 0.1263\n",
      "Epoch 21/30\n",
      "19/19 [==============================] - 163s 9s/step - loss: 0.0017 - accuracy: 0.1264\n",
      "Epoch 22/30\n",
      "19/19 [==============================] - 160s 8s/step - loss: 0.0014 - accuracy: 0.1263\n",
      "Epoch 23/30\n",
      "19/19 [==============================] - 126s 7s/step - loss: 0.0018 - accuracy: 0.1263\n",
      "Epoch 24/30\n",
      "19/19 [==============================] - 119s 6s/step - loss: 0.0015 - accuracy: 0.1263\n",
      "Epoch 25/30\n",
      "19/19 [==============================] - 167s 9s/step - loss: 0.0015 - accuracy: 0.1263\n",
      "Epoch 26/30\n",
      "19/19 [==============================] - 137s 7s/step - loss: 0.0014 - accuracy: 0.1264\n",
      "Epoch 27/30\n",
      "19/19 [==============================] - 172s 9s/step - loss: 0.0014 - accuracy: 0.1263\n",
      "Epoch 28/30\n",
      "19/19 [==============================] - 142s 7s/step - loss: 0.0016 - accuracy: 0.1264\n",
      "Epoch 29/30\n",
      "19/19 [==============================] - 127s 7s/step - loss: 0.0014 - accuracy: 0.1263\n",
      "Epoch 30/30\n",
      "19/19 [==============================] - 142s 8s/step - loss: 0.0016 - accuracy: 0.1263\n"
     ]
    },
    {
     "data": {
      "text/plain": [
       "<keras.src.callbacks.History at 0x2661b471840>"
      ]
     },
     "execution_count": 49,
     "metadata": {},
     "output_type": "execute_result"
    }
   ],
   "source": [
    "# for i in range(10):\n",
    "model.fit(dataset, epochs=30)"
   ]
  },
  {
   "cell_type": "code",
   "execution_count": 62,
   "id": "0cc022ac-80fc-4f1d-91a1-775071404231",
   "metadata": {},
   "outputs": [
    {
     "name": "stderr",
     "output_type": "stream",
     "text": [
      "C:\\Users\\anang\\AppData\\Local\\Temp\\ipykernel_11216\\3531157994.py:1: UserWarning: You are saving your model as an HDF5 file via `model.save()`. This file format is considered legacy. We recommend using instead the native Keras format, e.g. `model.save('my_model.keras')`.\n",
      "  tf.keras.models.save_model(model, 'location_gpt.h5')\n"
     ]
    }
   ],
   "source": [
    "tf.keras.models.save_model(model, 'location_gpt.h5')"
   ]
  },
  {
   "cell_type": "code",
   "execution_count": 34,
   "id": "a41daae9-8196-462c-b7e1-7a6a547a97d8",
   "metadata": {},
   "outputs": [],
   "source": [
    "# MAX_LENGTH = 25"
   ]
  },
  {
   "cell_type": "code",
   "execution_count": 35,
   "id": "c9e52a7f-7338-4d58-9b88-6ce42c11d4c2",
   "metadata": {},
   "outputs": [],
   "source": [
    "# load_model = tf.keras.models.load_model(\n",
    "#     \"h-model.h5\",\n",
    "#     custom_objects={\n",
    "#         \"PositionalEncoding\": PositionalEncoding,\n",
    "#         \"MultiHeadAttentionLayer\": MultiHeadAttentionLayer,\n",
    "#     },\n",
    "#     compile=False,\n",
    "# )\n",
    "\n",
    "\n",
    "# # Step 2: Quantize the model\n",
    "# converter = tf.lite.TFLiteConverter.from_keras_model(load_model)\n",
    "# converter.optimizations = [tf.lite.Optimize.DEFAULT]  # Apply default optimizations including post-training quantization\n",
    "# converter.target_spec.supported_ops = [tf.lite.OpsSet.TFLITE_BUILTINS, tf.lite.OpsSet.SELECT_TF_OPS]\n",
    "# converter.allow_custom_ops = True  # Enable custom ops\n",
    "\n",
    "# # Convert the model\n",
    "# quantized_tflite_model = converter.convert()\n",
    "\n",
    "# # Step 3: Save the quantized model\n",
    "# with open(\"quantized_model.tflite\", \"wb\") as f:\n",
    "#     f.write(quantized_tflite_model)\n"
   ]
  },
  {
   "cell_type": "code",
   "execution_count": null,
   "id": "8e343071-bbf8-4252-9caa-6ea6ae6af51b",
   "metadata": {},
   "outputs": [],
   "source": []
  },
  {
   "cell_type": "code",
   "execution_count": 63,
   "id": "f6f5fa57-7cab-4f13-a67e-02d06f521007",
   "metadata": {},
   "outputs": [],
   "source": [
    "import pickle\n",
    "\n",
    "# Assuming you have a tokenizer object named 'tokenizer'\n",
    "with open('location_gpt_tokenizer.pkl', 'wb') as handle:\n",
    "    tokens = {\n",
    "        \"tokenizer\": tokenizer,\n",
    "        \"max\": MAX_LENGTH,\n",
    "    }\n",
    "    pickle.dump(tokens, handle)\n"
   ]
  },
  {
   "cell_type": "code",
   "execution_count": 37,
   "id": "dcac2bf6-0054-449f-bca6-2669587193e8",
   "metadata": {},
   "outputs": [],
   "source": [
    "# import pickle\n",
    "\n",
    "# with open(\"C:/Users/anang/OneDrive/Desktop/Joshua's folder/DocGPT/tokenizer.pkl\", \"rb\") as handle:\n",
    "#     tokenizer = pickle.load(handle)\n",
    "\n",
    "# START_TOKEN, END_TOKEN = [tokenizer.vocab_size], [tokenizer.vocab_size + 1]"
   ]
  },
  {
   "cell_type": "code",
   "execution_count": 50,
   "id": "d1327ccb-e1ff-48a0-a581-e35ee71b6624",
   "metadata": {},
   "outputs": [],
   "source": [
    "def evaluate(sentence):\n",
    "    sentence = preprocess_sentence(sentence)\n",
    "\n",
    "    sentence = tf.expand_dims(\n",
    "        START_TOKEN + tokenizer.encode(sentence) + END_TOKEN, axis=0\n",
    "    )\n",
    "\n",
    "    output = tf.expand_dims(START_TOKEN, 0)\n",
    "\n",
    "    for i in range(MAX_LENGTH):\n",
    "        predictions = model(inputs=[sentence, output], training=False)\n",
    "\n",
    "        # select the last word from the seq_len dimension\n",
    "        predictions = predictions[:, -1:, :]\n",
    "        predicted_id = tf.cast(tf.argmax(predictions, axis=-1), tf.int32)\n",
    "\n",
    "        # return the result if the predicted_id is equal to the end token\n",
    "        if tf.equal(predicted_id, END_TOKEN[0]):\n",
    "            break\n",
    "\n",
    "        # concatenated the predicted_id to the output which is given to the decoder\n",
    "        # as its input.\n",
    "        output = tf.concat([output, predicted_id], axis=-1)\n",
    "\n",
    "            \n",
    "        \n",
    "\n",
    "    return tf.squeeze(output, axis=0)\n",
    "\n",
    "\n",
    "def predict(sentence):\n",
    "    prediction = evaluate(sentence)\n",
    "    predicted_sentence = tokenizer.decode(\n",
    "        [i for i in prediction if i < tokenizer.vocab_size]\n",
    "    )\n",
    "    return predicted_sentence"
   ]
  },
  {
   "cell_type": "code",
   "execution_count": 51,
   "id": "99425c95-03a9-47f9-bd8c-81b751dfbd5d",
   "metadata": {},
   "outputs": [
    {
     "data": {
      "text/plain": [
       "'babies with reflux are often fussy and agitated because reflux is the upward movement of stomach contents into the esophagus and sometimes into or out of the mouth . for improving this condition i suggest elevating the head of the children bed . keeping the child upright for at least two hours after eating . serving several small meals throughout the day , rather than three large meals . limiting foods and beverages that seem to worsen your children reflux . encouraging your child to get regular exercise . if the symptoms do not improve i suggest to talk to your pediatrician in order to take reflux medications . also , you can give your baby a lactose free formula if baby still .'"
      ]
     },
     "execution_count": 51,
     "metadata": {},
     "output_type": "execute_result"
    }
   ],
   "source": [
    "predict(\"i have been peeing a lot for the past three weeks, about 9 to 12 times a day, i have lower back pain on my right side, and my stomach hurts just below my belly button.\")"
   ]
  },
  {
   "cell_type": "code",
   "execution_count": 52,
   "id": "3297b963-fb1e-42d1-a987-2fd4d829d1b4",
   "metadata": {},
   "outputs": [
    {
     "data": {
      "text/plain": [
       "'alright . i will let you know when it is time for your exercise . . hey joshua ! it is time for your exercise .'"
      ]
     },
     "execution_count": 52,
     "metadata": {},
     "output_type": "execute_result"
    }
   ],
   "source": [
    "predict(\"Okay and I have to exercise at 9:00 PM can you remind me when it's time?\")"
   ]
  },
  {
   "cell_type": "code",
   "execution_count": 66,
   "id": "63009e57-62d2-436a-b3b3-9d48c6733ed9",
   "metadata": {},
   "outputs": [
    {
     "data": {
      "text/plain": [
       "'no problem , i will help you find it right away .'"
      ]
     },
     "execution_count": 66,
     "metadata": {},
     "output_type": "execute_result"
    }
   ],
   "source": [
    "predict(\"I'm in Hong Kong, China, and I need to find a good clinic for a check-up. Where should I go?\")"
   ]
  },
  {
   "cell_type": "code",
   "execution_count": 42,
   "id": "0b95204a-995c-480a-bfb4-e58072241829",
   "metadata": {},
   "outputs": [
    {
     "name": "stdout",
     "output_type": "stream",
     "text": [
      "[5304   23    8 1608    1    3   64   27 1383 3365 2573 1771    1   13\n",
      "    8   68  348    4  148  150  788    2    7 1050   17 5305    0    0\n",
      "    0    0    0    0    0    0    0    0    0    0    0    0    0    0\n",
      "    0    0    0    0    0    0    0    0    0    0    0    0    0    0\n",
      "    0    0    0    0    0    0    0    0    0    0    0    0    0    0\n",
      "    0    0    0    0    0    0    0    0    0    0    0    0    0    0\n",
      "    0    0    0    0    0    0    0    0    0    0    0    0    0    0\n",
      "    0    0    0    0    0    0    0    0    0    0    0    0    0    0\n",
      "    0    0    0    0    0    0    0    0    0    0    0    0    0    0\n",
      "    0    0    0    0    0    0    0    0    0    0    0    0    0    0\n",
      "    0    0    0    0    0    0    0    0    0    0    0    0    0    0\n",
      "    0    0    0    0    0    0    0    0    0    0    0    0    0    0\n",
      "    0    0    0    0    0    0    0    0    0    0    0    0    0    0\n",
      "    0    0    0    0    0    0    0    0    0    0    0    0    0    0\n",
      "    0    0    0    0    0    0    0    0    0    0    0    0    0    0\n",
      "    0    0    0    0    0    0    0    0    0    0    0    0    0    0\n",
      "    0    0    0    0    0    0    0    0    0    0    0    0    0    0\n",
      "    0    0    0    0    0    0    0    0    0    0    0    0    0    0\n",
      "    0    0    0    0    0    0    0    0    0    0    0    0    0    0\n",
      "    0    0    0    0    0    0]\n",
      "\n",
      "[5304 3660  150   14   25 2239    2 1086   70  130   19 1983   86    5\n",
      " 1087  389    9 1417    1   13    8  725    4  996   11  183  242    5\n",
      " 2693  363   26  368  132 2486   22    1  270    2    7 2170 2074   23\n",
      " 3412   11  248 1443    5  908 3198  389   11  701   18 5305    0    0\n",
      "    0    0    0    0    0    0    0    0    0    0    0    0    0    0\n",
      "    0    0    0    0    0    0    0    0    0    0    0    0    0    0\n",
      "    0    0    0    0    0    0    0    0    0    0    0    0    0    0\n",
      "    0    0    0    0    0    0    0    0    0    0    0    0    0    0\n",
      "    0    0    0    0    0    0    0    0    0    0    0    0    0    0\n",
      "    0    0    0    0    0    0    0    0    0    0    0    0    0    0\n",
      "    0    0    0    0    0    0    0    0    0    0    0    0    0    0\n",
      "    0    0    0    0    0    0    0    0    0    0    0    0    0    0\n",
      "    0    0    0    0    0    0    0    0    0    0    0    0    0    0\n",
      "    0    0    0    0    0    0    0    0    0    0    0    0    0    0\n",
      "    0    0    0    0    0    0    0    0    0    0    0    0    0    0\n",
      "    0    0    0    0    0    0    0    0    0    0    0    0    0    0\n",
      "    0    0    0    0    0    0    0    0    0    0    0    0    0    0\n",
      "    0    0    0    0    0    0    0    0    0    0    0    0    0    0\n",
      "    0    0    0    0    0    0    0    0    0    0    0    0    0    0\n",
      "    0    0    0    0    0    0]\n"
     ]
    }
   ],
   "source": [
    "print(questions[360])\n",
    "print()\n",
    "print(answers[360])"
   ]
  }
 ],
 "metadata": {
  "kernelspec": {
   "display_name": "Python 3 (ipykernel)",
   "language": "python",
   "name": "python3"
  },
  "language_info": {
   "codemirror_mode": {
    "name": "ipython",
    "version": 3
   },
   "file_extension": ".py",
   "mimetype": "text/x-python",
   "name": "python",
   "nbconvert_exporter": "python",
   "pygments_lexer": "ipython3",
   "version": "3.10.11"
  }
 },
 "nbformat": 4,
 "nbformat_minor": 5
}
